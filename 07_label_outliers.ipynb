{
 "cells": [
  {
   "cell_type": "code",
   "execution_count": 39,
   "metadata": {},
   "outputs": [],
   "source": [
    "import datetime\n",
    "\n",
    "import pandas as pd\n",
    "import numpy as np\n",
    "\n",
    "import statsmodels.api as sm\n",
    "import matplotlib.pyplot as plt\n",
    "import plotly.express as px\n",
    "\n",
    "from sklearn.preprocessing import StandardScaler\n",
    "from sklearn.linear_model import ElasticNet, Lasso"
   ]
  },
  {
   "cell_type": "code",
   "execution_count": 40,
   "metadata": {},
   "outputs": [
    {
     "data": {
      "text/html": [
       "<div>\n",
       "<style scoped>\n",
       "    .dataframe tbody tr th:only-of-type {\n",
       "        vertical-align: middle;\n",
       "    }\n",
       "\n",
       "    .dataframe tbody tr th {\n",
       "        vertical-align: top;\n",
       "    }\n",
       "\n",
       "    .dataframe thead th {\n",
       "        text-align: right;\n",
       "    }\n",
       "</style>\n",
       "<table border=\"1\" class=\"dataframe\">\n",
       "  <thead>\n",
       "    <tr style=\"text-align: right;\">\n",
       "      <th></th>\n",
       "      <th>quantity</th>\n",
       "      <th>suppliers_currency</th>\n",
       "      <th>transformer_unit_price</th>\n",
       "      <th>dry_or_oil</th>\n",
       "      <th>rated_power_kVA</th>\n",
       "      <th>primary_winding</th>\n",
       "      <th>secondary_winding</th>\n",
       "      <th>no_load_losses</th>\n",
       "      <th>full_load_losses_75</th>\n",
       "      <th>full_load_losses_120</th>\n",
       "      <th>rated_volt_primary_side</th>\n",
       "      <th>filename</th>\n",
       "    </tr>\n",
       "    <tr>\n",
       "      <th>date</th>\n",
       "      <th></th>\n",
       "      <th></th>\n",
       "      <th></th>\n",
       "      <th></th>\n",
       "      <th></th>\n",
       "      <th></th>\n",
       "      <th></th>\n",
       "      <th></th>\n",
       "      <th></th>\n",
       "      <th></th>\n",
       "      <th></th>\n",
       "      <th></th>\n",
       "    </tr>\n",
       "  </thead>\n",
       "  <tbody>\n",
       "    <tr>\n",
       "      <th>28-April-21</th>\n",
       "      <td>6.0</td>\n",
       "      <td>EUR</td>\n",
       "      <td>708000.0</td>\n",
       "      <td>Oil</td>\n",
       "      <td>19080.0</td>\n",
       "      <td>NaN</td>\n",
       "      <td>NaN</td>\n",
       "      <td>NaN</td>\n",
       "      <td>NaN</td>\n",
       "      <td>NaN</td>\n",
       "      <td>33.0</td>\n",
       "      <td>Best1 - USA - ABB - Project Hydrogen Mitshubis...</td>\n",
       "    </tr>\n",
       "    <tr>\n",
       "      <th>14/03/2023</th>\n",
       "      <td>4.0</td>\n",
       "      <td>EUR</td>\n",
       "      <td>235000.0</td>\n",
       "      <td>Oil</td>\n",
       "      <td>11000.0</td>\n",
       "      <td>NaN</td>\n",
       "      <td>NaN</td>\n",
       "      <td>NaN</td>\n",
       "      <td>NaN</td>\n",
       "      <td>NaN</td>\n",
       "      <td>NaN</td>\n",
       "      <td>Quote Celduc1.00.pdf</td>\n",
       "    </tr>\n",
       "    <tr>\n",
       "      <th>30/09/2021</th>\n",
       "      <td>5.0</td>\n",
       "      <td>EUR</td>\n",
       "      <td>267000.0</td>\n",
       "      <td>Oil</td>\n",
       "      <td>12000.0</td>\n",
       "      <td>Copper</td>\n",
       "      <td>Copper</td>\n",
       "      <td>8000.0</td>\n",
       "      <td>138000.0</td>\n",
       "      <td>146000.0</td>\n",
       "      <td>21.0</td>\n",
       "      <td>Celme_21-Celme1.pdf</td>\n",
       "    </tr>\n",
       "    <tr>\n",
       "      <th>30/09/2021</th>\n",
       "      <td>5.0</td>\n",
       "      <td>EUR</td>\n",
       "      <td>267000.0</td>\n",
       "      <td>Oil</td>\n",
       "      <td>12000.0</td>\n",
       "      <td>Copper</td>\n",
       "      <td>Copper</td>\n",
       "      <td>8000.0</td>\n",
       "      <td>138000.0</td>\n",
       "      <td>146000.0</td>\n",
       "      <td>21.0</td>\n",
       "      <td>Celme_21-Celme1.pdf</td>\n",
       "    </tr>\n",
       "    <tr>\n",
       "      <th>02.12.2020</th>\n",
       "      <td>1.0</td>\n",
       "      <td>EUR</td>\n",
       "      <td>56200.0</td>\n",
       "      <td>Dry</td>\n",
       "      <td>5000.0</td>\n",
       "      <td>Aluminium</td>\n",
       "      <td>Aluminium</td>\n",
       "      <td>5000.0</td>\n",
       "      <td>53043.0</td>\n",
       "      <td>61000.0</td>\n",
       "      <td>11.0</td>\n",
       "      <td>QT-20-Hitachi17_Rev-1.pdf</td>\n",
       "    </tr>\n",
       "  </tbody>\n",
       "</table>\n",
       "</div>"
      ],
      "text/plain": [
       "             quantity suppliers_currency  transformer_unit_price dry_or_oil  \\\n",
       "date                                                                          \n",
       "28-April-21       6.0                EUR                708000.0        Oil   \n",
       "14/03/2023        4.0                EUR                235000.0        Oil   \n",
       "30/09/2021        5.0                EUR                267000.0        Oil   \n",
       "30/09/2021        5.0                EUR                267000.0        Oil   \n",
       "02.12.2020        1.0                EUR                 56200.0        Dry   \n",
       "\n",
       "             rated_power_kVA primary_winding secondary_winding  \\\n",
       "date                                                             \n",
       "28-April-21          19080.0             NaN               NaN   \n",
       "14/03/2023           11000.0             NaN               NaN   \n",
       "30/09/2021           12000.0          Copper            Copper   \n",
       "30/09/2021           12000.0          Copper            Copper   \n",
       "02.12.2020            5000.0       Aluminium         Aluminium   \n",
       "\n",
       "             no_load_losses  full_load_losses_75  full_load_losses_120  \\\n",
       "date                                                                     \n",
       "28-April-21             NaN                  NaN                   NaN   \n",
       "14/03/2023              NaN                  NaN                   NaN   \n",
       "30/09/2021           8000.0             138000.0              146000.0   \n",
       "30/09/2021           8000.0             138000.0              146000.0   \n",
       "02.12.2020           5000.0              53043.0               61000.0   \n",
       "\n",
       "             rated_volt_primary_side  \\\n",
       "date                                   \n",
       "28-April-21                     33.0   \n",
       "14/03/2023                       NaN   \n",
       "30/09/2021                      21.0   \n",
       "30/09/2021                      21.0   \n",
       "02.12.2020                      11.0   \n",
       "\n",
       "                                                      filename  \n",
       "date                                                            \n",
       "28-April-21  Best1 - USA - ABB - Project Hydrogen Mitshubis...  \n",
       "14/03/2023                                Quote Celduc1.00.pdf  \n",
       "30/09/2021                                 Celme_21-Celme1.pdf  \n",
       "30/09/2021                                 Celme_21-Celme1.pdf  \n",
       "02.12.2020                           QT-20-Hitachi17_Rev-1.pdf  "
      ]
     },
     "execution_count": 40,
     "metadata": {},
     "output_type": "execute_result"
    }
   ],
   "source": [
    "df_proj = pd.read_csv('transformer_data_cleaner.csv', index_col=0)\n",
    "df_proj = df_proj.dropna(subset=['transformer_unit_price', 'rated_power_kVA']).copy()\n",
    "df_proj.head()"
   ]
  },
  {
   "cell_type": "code",
   "execution_count": 41,
   "metadata": {},
   "outputs": [
    {
     "data": {
      "text/html": [
       "<div>\n",
       "<style scoped>\n",
       "    .dataframe tbody tr th:only-of-type {\n",
       "        vertical-align: middle;\n",
       "    }\n",
       "\n",
       "    .dataframe tbody tr th {\n",
       "        vertical-align: top;\n",
       "    }\n",
       "\n",
       "    .dataframe thead th {\n",
       "        text-align: right;\n",
       "    }\n",
       "</style>\n",
       "<table border=\"1\" class=\"dataframe\">\n",
       "  <thead>\n",
       "    <tr style=\"text-align: right;\">\n",
       "      <th></th>\n",
       "      <th>date</th>\n",
       "      <th>quantity</th>\n",
       "      <th>suppliers_currency</th>\n",
       "      <th>transformer_unit_price</th>\n",
       "      <th>dry_or_oil</th>\n",
       "      <th>rated_power_kVA</th>\n",
       "      <th>primary_winding</th>\n",
       "      <th>secondary_winding</th>\n",
       "      <th>no_load_loss</th>\n",
       "      <th>full_load_loss_75</th>\n",
       "      <th>full_load_loss_120</th>\n",
       "      <th>rated_volt_primary_side</th>\n",
       "    </tr>\n",
       "  </thead>\n",
       "  <tbody>\n",
       "    <tr>\n",
       "      <th>0</th>\n",
       "      <td>2021-04-28</td>\n",
       "      <td>6.0</td>\n",
       "      <td>EUR</td>\n",
       "      <td>708000.0</td>\n",
       "      <td>Oil</td>\n",
       "      <td>19080.0</td>\n",
       "      <td>Copper</td>\n",
       "      <td>Copper</td>\n",
       "      <td>19002.544911</td>\n",
       "      <td>150154.155650</td>\n",
       "      <td>187698.233981</td>\n",
       "      <td>33000.0</td>\n",
       "    </tr>\n",
       "    <tr>\n",
       "      <th>3</th>\n",
       "      <td>2023-03-14</td>\n",
       "      <td>4.0</td>\n",
       "      <td>EUR</td>\n",
       "      <td>235000.0</td>\n",
       "      <td>Oil</td>\n",
       "      <td>11000.0</td>\n",
       "      <td>Copper</td>\n",
       "      <td>Copper</td>\n",
       "      <td>11825.516231</td>\n",
       "      <td>89149.546166</td>\n",
       "      <td>108715.888044</td>\n",
       "      <td>20000.0</td>\n",
       "    </tr>\n",
       "    <tr>\n",
       "      <th>8</th>\n",
       "      <td>2021-09-30</td>\n",
       "      <td>5.0</td>\n",
       "      <td>EUR</td>\n",
       "      <td>267000.0</td>\n",
       "      <td>Oil</td>\n",
       "      <td>12000.0</td>\n",
       "      <td>Copper</td>\n",
       "      <td>Copper</td>\n",
       "      <td>8000.000000</td>\n",
       "      <td>138000.000000</td>\n",
       "      <td>146000.000000</td>\n",
       "      <td>21000.0</td>\n",
       "    </tr>\n",
       "    <tr>\n",
       "      <th>9</th>\n",
       "      <td>2021-09-30</td>\n",
       "      <td>5.0</td>\n",
       "      <td>EUR</td>\n",
       "      <td>267000.0</td>\n",
       "      <td>Oil</td>\n",
       "      <td>12000.0</td>\n",
       "      <td>Copper</td>\n",
       "      <td>Copper</td>\n",
       "      <td>8000.000000</td>\n",
       "      <td>138000.000000</td>\n",
       "      <td>146000.000000</td>\n",
       "      <td>24000.0</td>\n",
       "    </tr>\n",
       "    <tr>\n",
       "      <th>10</th>\n",
       "      <td>2020-12-02</td>\n",
       "      <td>1.0</td>\n",
       "      <td>EUR</td>\n",
       "      <td>56200.0</td>\n",
       "      <td>Dry</td>\n",
       "      <td>5000.0</td>\n",
       "      <td>Aluminum</td>\n",
       "      <td>Aluminum</td>\n",
       "      <td>5000.000000</td>\n",
       "      <td>53043.000000</td>\n",
       "      <td>61000.000000</td>\n",
       "      <td>11000.0</td>\n",
       "    </tr>\n",
       "  </tbody>\n",
       "</table>\n",
       "</div>"
      ],
      "text/plain": [
       "          date  quantity suppliers_currency  transformer_unit_price  \\\n",
       "0   2021-04-28       6.0                EUR                708000.0   \n",
       "3   2023-03-14       4.0                EUR                235000.0   \n",
       "8   2021-09-30       5.0                EUR                267000.0   \n",
       "9   2021-09-30       5.0                EUR                267000.0   \n",
       "10  2020-12-02       1.0                EUR                 56200.0   \n",
       "\n",
       "   dry_or_oil  rated_power_kVA primary_winding secondary_winding  \\\n",
       "0         Oil          19080.0          Copper            Copper   \n",
       "3         Oil          11000.0          Copper            Copper   \n",
       "8         Oil          12000.0          Copper            Copper   \n",
       "9         Oil          12000.0          Copper            Copper   \n",
       "10        Dry           5000.0        Aluminum          Aluminum   \n",
       "\n",
       "    no_load_loss  full_load_loss_75  full_load_loss_120  \\\n",
       "0   19002.544911      150154.155650       187698.233981   \n",
       "3   11825.516231       89149.546166       108715.888044   \n",
       "8    8000.000000      138000.000000       146000.000000   \n",
       "9    8000.000000      138000.000000       146000.000000   \n",
       "10   5000.000000       53043.000000        61000.000000   \n",
       "\n",
       "    rated_volt_primary_side  \n",
       "0                   33000.0  \n",
       "3                   20000.0  \n",
       "8                   21000.0  \n",
       "9                   24000.0  \n",
       "10                  11000.0  "
      ]
     },
     "execution_count": 41,
     "metadata": {},
     "output_type": "execute_result"
    }
   ],
   "source": [
    "df = pd.read_csv('./output/v2.csv', index_col=0)\n",
    "df.head()"
   ]
  },
  {
   "cell_type": "code",
   "execution_count": 42,
   "metadata": {},
   "outputs": [
    {
     "data": {
      "text/html": [
       "<div>\n",
       "<style scoped>\n",
       "    .dataframe tbody tr th:only-of-type {\n",
       "        vertical-align: middle;\n",
       "    }\n",
       "\n",
       "    .dataframe tbody tr th {\n",
       "        vertical-align: top;\n",
       "    }\n",
       "\n",
       "    .dataframe thead th {\n",
       "        text-align: right;\n",
       "    }\n",
       "</style>\n",
       "<table border=\"1\" class=\"dataframe\">\n",
       "  <thead>\n",
       "    <tr style=\"text-align: right;\">\n",
       "      <th></th>\n",
       "      <th>transformer_unit_price</th>\n",
       "      <th>rated_power_kVA</th>\n",
       "      <th>project</th>\n",
       "      <th>date</th>\n",
       "      <th>quantity</th>\n",
       "      <th>suppliers_currency</th>\n",
       "      <th>dry_or_oil</th>\n",
       "      <th>primary_winding</th>\n",
       "      <th>secondary_winding</th>\n",
       "      <th>no_load_loss</th>\n",
       "      <th>full_load_loss_75</th>\n",
       "      <th>full_load_loss_120</th>\n",
       "      <th>rated_volt_primary_side</th>\n",
       "    </tr>\n",
       "  </thead>\n",
       "  <tbody>\n",
       "    <tr>\n",
       "      <th>0</th>\n",
       "      <td>708000.0</td>\n",
       "      <td>19080.0</td>\n",
       "      <td>Best1 - USA - ABB - Project Hydrogen Mitshubis...</td>\n",
       "      <td>2021-04-28</td>\n",
       "      <td>6.0</td>\n",
       "      <td>EUR</td>\n",
       "      <td>Oil</td>\n",
       "      <td>Copper</td>\n",
       "      <td>Copper</td>\n",
       "      <td>19002.544911</td>\n",
       "      <td>150154.155650</td>\n",
       "      <td>187698.233981</td>\n",
       "      <td>33000.0</td>\n",
       "    </tr>\n",
       "    <tr>\n",
       "      <th>1</th>\n",
       "      <td>235000.0</td>\n",
       "      <td>11000.0</td>\n",
       "      <td>Quote Celduc1.00.pdf</td>\n",
       "      <td>2023-03-14</td>\n",
       "      <td>4.0</td>\n",
       "      <td>EUR</td>\n",
       "      <td>Oil</td>\n",
       "      <td>Copper</td>\n",
       "      <td>Copper</td>\n",
       "      <td>11825.516231</td>\n",
       "      <td>89149.546166</td>\n",
       "      <td>108715.888044</td>\n",
       "      <td>20000.0</td>\n",
       "    </tr>\n",
       "    <tr>\n",
       "      <th>2</th>\n",
       "      <td>267000.0</td>\n",
       "      <td>12000.0</td>\n",
       "      <td>Celme_21-Celme1.pdf</td>\n",
       "      <td>2021-09-30</td>\n",
       "      <td>5.0</td>\n",
       "      <td>EUR</td>\n",
       "      <td>Oil</td>\n",
       "      <td>Copper</td>\n",
       "      <td>Copper</td>\n",
       "      <td>8000.000000</td>\n",
       "      <td>138000.000000</td>\n",
       "      <td>146000.000000</td>\n",
       "      <td>21000.0</td>\n",
       "    </tr>\n",
       "    <tr>\n",
       "      <th>4</th>\n",
       "      <td>267000.0</td>\n",
       "      <td>12000.0</td>\n",
       "      <td>Celme_21-Celme1.pdf</td>\n",
       "      <td>2021-09-30</td>\n",
       "      <td>5.0</td>\n",
       "      <td>EUR</td>\n",
       "      <td>Oil</td>\n",
       "      <td>Copper</td>\n",
       "      <td>Copper</td>\n",
       "      <td>8000.000000</td>\n",
       "      <td>138000.000000</td>\n",
       "      <td>146000.000000</td>\n",
       "      <td>24000.0</td>\n",
       "    </tr>\n",
       "    <tr>\n",
       "      <th>6</th>\n",
       "      <td>56200.0</td>\n",
       "      <td>5000.0</td>\n",
       "      <td>QT-20-Hitachi17_Rev-1.pdf</td>\n",
       "      <td>2020-12-02</td>\n",
       "      <td>1.0</td>\n",
       "      <td>EUR</td>\n",
       "      <td>Dry</td>\n",
       "      <td>Aluminum</td>\n",
       "      <td>Aluminum</td>\n",
       "      <td>5000.000000</td>\n",
       "      <td>53043.000000</td>\n",
       "      <td>61000.000000</td>\n",
       "      <td>11000.0</td>\n",
       "    </tr>\n",
       "  </tbody>\n",
       "</table>\n",
       "</div>"
      ],
      "text/plain": [
       "   transformer_unit_price  rated_power_kVA  \\\n",
       "0                708000.0          19080.0   \n",
       "1                235000.0          11000.0   \n",
       "2                267000.0          12000.0   \n",
       "4                267000.0          12000.0   \n",
       "6                 56200.0           5000.0   \n",
       "\n",
       "                                             project        date  quantity  \\\n",
       "0  Best1 - USA - ABB - Project Hydrogen Mitshubis...  2021-04-28       6.0   \n",
       "1                               Quote Celduc1.00.pdf  2023-03-14       4.0   \n",
       "2                                Celme_21-Celme1.pdf  2021-09-30       5.0   \n",
       "4                                Celme_21-Celme1.pdf  2021-09-30       5.0   \n",
       "6                          QT-20-Hitachi17_Rev-1.pdf  2020-12-02       1.0   \n",
       "\n",
       "  suppliers_currency dry_or_oil primary_winding secondary_winding  \\\n",
       "0                EUR        Oil          Copper            Copper   \n",
       "1                EUR        Oil          Copper            Copper   \n",
       "2                EUR        Oil          Copper            Copper   \n",
       "4                EUR        Oil          Copper            Copper   \n",
       "6                EUR        Dry        Aluminum          Aluminum   \n",
       "\n",
       "   no_load_loss  full_load_loss_75  full_load_loss_120  \\\n",
       "0  19002.544911      150154.155650       187698.233981   \n",
       "1  11825.516231       89149.546166       108715.888044   \n",
       "2   8000.000000      138000.000000       146000.000000   \n",
       "4   8000.000000      138000.000000       146000.000000   \n",
       "6   5000.000000       53043.000000        61000.000000   \n",
       "\n",
       "   rated_volt_primary_side  \n",
       "0                  33000.0  \n",
       "1                  20000.0  \n",
       "2                  21000.0  \n",
       "4                  24000.0  \n",
       "6                  11000.0  "
      ]
     },
     "execution_count": 42,
     "metadata": {},
     "output_type": "execute_result"
    }
   ],
   "source": [
    "df_merged = pd.merge(\n",
    "    left=df_proj[['transformer_unit_price', 'rated_power_kVA', 'filename']],\n",
    "    right=df,\n",
    "    how='right',\n",
    "    on=['transformer_unit_price', 'rated_power_kVA']\n",
    ").copy()\n",
    "df_merged.rename({'filename': 'project'}, axis=True, inplace=True)\n",
    "df_merged = df_merged.drop_duplicates()\n",
    "df_merged.head()"
   ]
  },
  {
   "cell_type": "code",
   "execution_count": 43,
   "metadata": {},
   "outputs": [],
   "source": [
    "outliers = [361500, 291000, 660000, 22000, 7300, 620000, 629000, 852000]\n",
    "\n",
    "outlier_df = df_merged.copy()\n",
    "outlier_df['outlier'] = outlier_df['transformer_unit_price'].apply(lambda x: x in outliers)"
   ]
  },
  {
   "cell_type": "code",
   "execution_count": 44,
   "metadata": {},
   "outputs": [],
   "source": [
    "outlier_df.rename(\n",
    "    {\n",
    "        'transformer_unit_price': 'Transformer unit price in EUR',\n",
    "        'rated_power_kVA': 'Rated power in kVA',\n",
    "        'project': 'Project name',\n",
    "        'outlier': 'Outlier'\n",
    "    },\n",
    "    axis=1,\n",
    "    inplace=1\n",
    ")"
   ]
  },
  {
   "cell_type": "code",
   "execution_count": 53,
   "metadata": {},
   "outputs": [
    {
     "data": {
      "application/vnd.plotly.v1+json": {
       "config": {
        "plotlyServerURL": "https://plot.ly"
       },
       "data": [
        {
         "customdata": [
          [
           "Best1 - USA - ABB - Project Hydrogen Mitshubishi US for Oil Transformers.pdf"
          ],
          [
           "Quote Celduc1.00.pdf"
          ],
          [
           "Celme_21-Celme1.pdf"
          ],
          [
           "Celme_21-Celme1.pdf"
          ],
          [
           "QT-20-Hitachi17_Rev-1.pdf"
          ],
          [
           "QT-20-Hitachi1_Rev1.pdf"
          ],
          [
           "QT-20-Hitachi2_Rev0.pdf"
          ],
          [
           "QT-21-Hitachi11_Rev1.pdf"
          ],
          [
           "QUOTATION Sonmez4.pdf"
          ],
          [
           "QT-21-Hitachi12_Rev1_EN_H4A.pdf"
          ],
          [
           "QT-21-Hitachi15_Rev.0.pdf"
          ],
          [
           "QT-22-Hitachi10_Rev0.pdf"
          ],
          [
           "QT-22-Hitachi10_Rev0.pdf"
          ],
          [
           "QT-22-Hitachi10_Rev0.pdf"
          ],
          [
           "QT-22-Hitachi16_Rev6.pdf"
          ],
          [
           "QT-22-Hitachi20_Rev1.pdf"
          ],
          [
           null
          ],
          [
           "QT-22-Hitachi21_Rev0.pdf"
          ],
          [
           "QT-22-Hitachi5_Rev0_EN_H4A.pdf"
          ],
          [
           null
          ],
          [
           "RDOSea1A.pdf"
          ],
          [
           "RDOSea1A.pdf"
          ],
          [
           "RDOSea2C.pdf"
          ],
          [
           "RDOSea2C.pdf"
          ],
          [
           "RDOSea3A.pdf"
          ],
          [
           "2022 08 03 SGB Ang SGB4 R00.pdf"
          ],
          [
           "SGB4-Datasheet.pdf"
          ],
          [
           "2022 08 03 SGB Ang SGB4 R00.pdf"
          ],
          [
           "SGB4-Datasheet.pdf"
          ],
          [
           "SGB Ang SGB10 R03_signed.pdf"
          ],
          [
           "SGB Ang SGB10 R03.pdf"
          ],
          [
           "SGB Ang SGB10 R03_signed.pdf"
          ],
          [
           "SGB Ang SGB10 R03_signed.pdf"
          ],
          [
           "SGB Ang SGB10 R03.pdf"
          ],
          [
           "SGB Ang SGB10 R03_signed.pdf"
          ],
          [
           "SGB Ang SGB10 R03_signed.pdf"
          ],
          [
           "SGB Off ABB RfQ-284351-0.pdf"
          ],
          [
           "SGB Quote SGB3-00-ABB RFQ-237998-0_signedRHE.pdf"
          ],
          [
           "SGB Quote SGB6-01-ABB RFQ-240466-0_signed.pdf"
          ],
          [
           "SGB Quote SGB8 ABB 274133 R00.pdf"
          ],
          [
           "SGB1 offer V2 RFQ-210204 Air liquide.pdf"
          ],
          [
           "SGB2_ 26 special transformer 6 MVA 33 kV 04-09-2020.pdf"
          ],
          [
           "SGB2_ABB.pdf"
          ],
          [
           "SGB5_ABB.pdf"
          ],
          [
           "SGB5_ABB.pdf"
          ],
          [
           "SGB5_ABB.pdf"
          ],
          [
           "QUOTATION Sonmez1.pdf"
          ],
          [
           null
          ],
          [
           "QUOTATION Sonmez2.pdf"
          ],
          [
           "QUOTATION Sonmez2.pdf"
          ],
          [
           "QUOTATION Sonmez2.pdf"
          ],
          [
           "QUOTATION Sonmez2.pdf"
          ],
          [
           "QUOTATION Sonmez3.pdf"
          ],
          [
           "QUOTATION Sonmez3.pdf"
          ],
          [
           "QT-21-Hitachi11_Rev1.pdf"
          ],
          [
           "QUOTATION Sonmez4.pdf"
          ],
          [
           "QUOTATION Sonmez5.pdf"
          ],
          [
           "QUOTATION Sonmez6.pdf"
          ],
          [
           "QUOTATION Sonmez6.pdf"
          ],
          [
           null
          ],
          [
           "QUOTATION Sonmez7.pdf"
          ],
          [
           "QUOTATION Sonmez8.pdf"
          ],
          [
           "QUOTATION Sonmez9.rev1.pdf"
          ],
          [
           "QUOTATION Sonmez9.rev1.pdf"
          ],
          [
           "QN-TMC12_rev.1_Quotation_RFQ-230738-0_OPP-21-4660027, Hydrogenplant NN.pdf"
          ],
          [
           "QN-TMC13-rev.1_Quotation_RFQ-255592-0_H2 -Energiefabrik Lübesse for CONVERTOR.pdf"
          ],
          [
           null
          ],
          [
           "QN-TMC4-Quotation (002).pdf"
          ],
          [
           "QN-TMC4-Quotation (002).pdf"
          ],
          [
           "QN-TMC6_kommerziell.pdf"
          ],
          [
           null
          ],
          [
           "QN-TMC7-Quotation.pdf"
          ],
          [
           "QN-TMC9-Quotation_RFQ-277276-0_OPP-22-5757363 Arcadia.pdf"
          ],
          [
           null
          ],
          [
           "OVTrasfor2-1.pdf"
          ],
          [
           null
          ],
          [
           "OVTrasfor3-2.pdf"
          ],
          [
           "OVTrasfor9-2.pdf"
          ],
          [
           null
          ],
          [
           "OVTrasfor9-2.pdf"
          ],
          [
           "QTTrasfor10-4.pdf"
          ],
          [
           null
          ],
          [
           "QTTrasfor10-4.pdf"
          ],
          [
           "QTTrasfor4-1.pdf"
          ],
          [
           "QTTrasfor5-2.pdf"
          ],
          [
           "QTTrasfor7.pdf"
          ],
          [
           null
          ],
          [
           "SGB Off ABB RfQ-284351-0.pdf"
          ],
          [
           null
          ],
          [
           "2022 08 03 SGB Ang SGB4 R00.pdf"
          ],
          [
           "SGB4-Datasheet.pdf"
          ],
          [
           "2022 08 03 SGB Ang SGB4 R00.pdf"
          ],
          [
           "SGB4-Datasheet.pdf"
          ],
          [
           "SGB5_ABB.pdf"
          ],
          [
           "SGB5_ABB.pdf"
          ],
          [
           "SGB5_ABB.pdf"
          ],
          [
           "SGB5_ABB.pdf"
          ]
         ],
         "hovertemplate": "Outlier=False<br>Rated power in kVA=%{x}<br>Transformer unit price in EUR=%{y}<br>Project name=%{customdata[0]}<extra></extra>",
         "legendgroup": "False",
         "marker": {
          "color": "#636efa",
          "symbol": "circle"
         },
         "mode": "markers",
         "name": "False",
         "orientation": "v",
         "showlegend": true,
         "type": "scatter",
         "x": [
          19080,
          11000,
          12000,
          12000,
          5000,
          6500,
          6000,
          12000,
          12000,
          1000,
          2800,
          1500,
          315,
          1800,
          1000,
          1250,
          2500,
          1000,
          15000,
          8000,
          5400,
          5400,
          11000,
          22000,
          15000,
          8000,
          8000,
          8000,
          8000,
          1000,
          1300,
          1300,
          1000,
          1300,
          1300,
          1000,
          2000,
          7000,
          12000,
          11400,
          6500,
          6000,
          6000,
          1800,
          1500,
          250,
          15000,
          15000,
          1600,
          1400,
          3000,
          630,
          12000,
          12000,
          12000,
          12000,
          12000,
          6113,
          2039,
          5400,
          10800,
          5400,
          1325,
          1000,
          15450,
          1250,
          1600,
          630,
          500,
          2500,
          1600,
          2800,
          15000,
          6500,
          3250,
          6500,
          10000,
          5000,
          2000,
          5000,
          15000,
          15000,
          7500,
          15000,
          15000,
          6113,
          5000,
          2000,
          6000,
          8000,
          8000,
          8000,
          8000,
          1800,
          1500,
          250,
          250
         ],
         "xaxis": "x",
         "y": [
          708000,
          235000,
          267000,
          267000,
          56200,
          79500,
          127000,
          195000,
          195000,
          78750,
          63600,
          33660,
          20490,
          35300,
          23100,
          28240,
          29980,
          29980,
          197000,
          192000,
          72000,
          78000,
          362000,
          715000,
          398000,
          150000,
          150000,
          150000,
          150000,
          25900,
          40000,
          40000,
          25900,
          40000,
          40000,
          25900,
          46700,
          111000,
          125000,
          155000,
          206000,
          99000,
          99000,
          37250,
          30710,
          11340,
          580000,
          5500,
          34500,
          36600,
          51000,
          23500,
          265000,
          210000,
          195000,
          195000,
          301000,
          139000,
          75000,
          215000,
          175000,
          216000,
          81000,
          70000,
          176800,
          25400,
          26000,
          15600,
          14000,
          56400,
          54700,
          51000,
          252600,
          74500,
          74500,
          74500,
          128000,
          70000,
          70000,
          70000,
          148000,
          149000,
          149000,
          172000,
          120000,
          57800,
          132000,
          46700,
          183333,
          150000,
          150000,
          150000,
          150000,
          37250,
          30710,
          11340,
          11340
         ],
         "yaxis": "y"
        },
        {
         "customdata": [
          [
           "QT-21-Hitachi12_Rev1_EN_H4A.pdf"
          ],
          [
           "QT-22-Hitachi13_Rev1_EN_H4A.pdf"
          ],
          [
           "Burget Price SGB7.pdf"
          ],
          [
           "QUOTATION Sonmez5.pdf"
          ],
          [
           null
          ],
          [
           "QN-TMC11-Quotation_Wärtsilä - Vantaan H2 project - OPP-21-4995847.pdf"
          ],
          [
           "QTTrasfor8-2.pdf"
          ],
          [
           "SGB4-Datasheet.pdf"
          ]
         ],
         "hovertemplate": "Outlier=True<br>Rated power in kVA=%{x}<br>Transformer unit price in EUR=%{y}<br>Project name=%{customdata[0]}<extra></extra>",
         "legendgroup": "True",
         "marker": {
          "color": "#EF553B",
          "symbol": "circle"
         },
         "mode": "markers",
         "name": "True",
         "orientation": "v",
         "showlegend": true,
         "type": "scatter",
         "x": [
          2500,
          2000,
          12000,
          12000,
          15000,
          15000,
          5400,
          8000
         ],
         "xaxis": "x",
         "y": [
          291000,
          361500,
          620000,
          629000,
          7300,
          852000,
          660000,
          22000
         ],
         "yaxis": "y"
        }
       ],
       "layout": {
        "legend": {
         "bgcolor": "rgba(255, 255, 255, 0.5)",
         "title": {
          "text": "Outlier"
         },
         "tracegroupgap": 0,
         "x": 1,
         "xanchor": "right",
         "y": 0,
         "yanchor": "bottom"
        },
        "margin": {
         "t": 60
        },
        "template": {
         "data": {
          "bar": [
           {
            "error_x": {
             "color": "#2a3f5f"
            },
            "error_y": {
             "color": "#2a3f5f"
            },
            "marker": {
             "line": {
              "color": "#E5ECF6",
              "width": 0.5
             },
             "pattern": {
              "fillmode": "overlay",
              "size": 10,
              "solidity": 0.2
             }
            },
            "type": "bar"
           }
          ],
          "barpolar": [
           {
            "marker": {
             "line": {
              "color": "#E5ECF6",
              "width": 0.5
             },
             "pattern": {
              "fillmode": "overlay",
              "size": 10,
              "solidity": 0.2
             }
            },
            "type": "barpolar"
           }
          ],
          "carpet": [
           {
            "aaxis": {
             "endlinecolor": "#2a3f5f",
             "gridcolor": "white",
             "linecolor": "white",
             "minorgridcolor": "white",
             "startlinecolor": "#2a3f5f"
            },
            "baxis": {
             "endlinecolor": "#2a3f5f",
             "gridcolor": "white",
             "linecolor": "white",
             "minorgridcolor": "white",
             "startlinecolor": "#2a3f5f"
            },
            "type": "carpet"
           }
          ],
          "choropleth": [
           {
            "colorbar": {
             "outlinewidth": 0,
             "ticks": ""
            },
            "type": "choropleth"
           }
          ],
          "contour": [
           {
            "colorbar": {
             "outlinewidth": 0,
             "ticks": ""
            },
            "colorscale": [
             [
              0,
              "#0d0887"
             ],
             [
              0.1111111111111111,
              "#46039f"
             ],
             [
              0.2222222222222222,
              "#7201a8"
             ],
             [
              0.3333333333333333,
              "#9c179e"
             ],
             [
              0.4444444444444444,
              "#bd3786"
             ],
             [
              0.5555555555555556,
              "#d8576b"
             ],
             [
              0.6666666666666666,
              "#ed7953"
             ],
             [
              0.7777777777777778,
              "#fb9f3a"
             ],
             [
              0.8888888888888888,
              "#fdca26"
             ],
             [
              1,
              "#f0f921"
             ]
            ],
            "type": "contour"
           }
          ],
          "contourcarpet": [
           {
            "colorbar": {
             "outlinewidth": 0,
             "ticks": ""
            },
            "type": "contourcarpet"
           }
          ],
          "heatmap": [
           {
            "colorbar": {
             "outlinewidth": 0,
             "ticks": ""
            },
            "colorscale": [
             [
              0,
              "#0d0887"
             ],
             [
              0.1111111111111111,
              "#46039f"
             ],
             [
              0.2222222222222222,
              "#7201a8"
             ],
             [
              0.3333333333333333,
              "#9c179e"
             ],
             [
              0.4444444444444444,
              "#bd3786"
             ],
             [
              0.5555555555555556,
              "#d8576b"
             ],
             [
              0.6666666666666666,
              "#ed7953"
             ],
             [
              0.7777777777777778,
              "#fb9f3a"
             ],
             [
              0.8888888888888888,
              "#fdca26"
             ],
             [
              1,
              "#f0f921"
             ]
            ],
            "type": "heatmap"
           }
          ],
          "heatmapgl": [
           {
            "colorbar": {
             "outlinewidth": 0,
             "ticks": ""
            },
            "colorscale": [
             [
              0,
              "#0d0887"
             ],
             [
              0.1111111111111111,
              "#46039f"
             ],
             [
              0.2222222222222222,
              "#7201a8"
             ],
             [
              0.3333333333333333,
              "#9c179e"
             ],
             [
              0.4444444444444444,
              "#bd3786"
             ],
             [
              0.5555555555555556,
              "#d8576b"
             ],
             [
              0.6666666666666666,
              "#ed7953"
             ],
             [
              0.7777777777777778,
              "#fb9f3a"
             ],
             [
              0.8888888888888888,
              "#fdca26"
             ],
             [
              1,
              "#f0f921"
             ]
            ],
            "type": "heatmapgl"
           }
          ],
          "histogram": [
           {
            "marker": {
             "pattern": {
              "fillmode": "overlay",
              "size": 10,
              "solidity": 0.2
             }
            },
            "type": "histogram"
           }
          ],
          "histogram2d": [
           {
            "colorbar": {
             "outlinewidth": 0,
             "ticks": ""
            },
            "colorscale": [
             [
              0,
              "#0d0887"
             ],
             [
              0.1111111111111111,
              "#46039f"
             ],
             [
              0.2222222222222222,
              "#7201a8"
             ],
             [
              0.3333333333333333,
              "#9c179e"
             ],
             [
              0.4444444444444444,
              "#bd3786"
             ],
             [
              0.5555555555555556,
              "#d8576b"
             ],
             [
              0.6666666666666666,
              "#ed7953"
             ],
             [
              0.7777777777777778,
              "#fb9f3a"
             ],
             [
              0.8888888888888888,
              "#fdca26"
             ],
             [
              1,
              "#f0f921"
             ]
            ],
            "type": "histogram2d"
           }
          ],
          "histogram2dcontour": [
           {
            "colorbar": {
             "outlinewidth": 0,
             "ticks": ""
            },
            "colorscale": [
             [
              0,
              "#0d0887"
             ],
             [
              0.1111111111111111,
              "#46039f"
             ],
             [
              0.2222222222222222,
              "#7201a8"
             ],
             [
              0.3333333333333333,
              "#9c179e"
             ],
             [
              0.4444444444444444,
              "#bd3786"
             ],
             [
              0.5555555555555556,
              "#d8576b"
             ],
             [
              0.6666666666666666,
              "#ed7953"
             ],
             [
              0.7777777777777778,
              "#fb9f3a"
             ],
             [
              0.8888888888888888,
              "#fdca26"
             ],
             [
              1,
              "#f0f921"
             ]
            ],
            "type": "histogram2dcontour"
           }
          ],
          "mesh3d": [
           {
            "colorbar": {
             "outlinewidth": 0,
             "ticks": ""
            },
            "type": "mesh3d"
           }
          ],
          "parcoords": [
           {
            "line": {
             "colorbar": {
              "outlinewidth": 0,
              "ticks": ""
             }
            },
            "type": "parcoords"
           }
          ],
          "pie": [
           {
            "automargin": true,
            "type": "pie"
           }
          ],
          "scatter": [
           {
            "fillpattern": {
             "fillmode": "overlay",
             "size": 10,
             "solidity": 0.2
            },
            "type": "scatter"
           }
          ],
          "scatter3d": [
           {
            "line": {
             "colorbar": {
              "outlinewidth": 0,
              "ticks": ""
             }
            },
            "marker": {
             "colorbar": {
              "outlinewidth": 0,
              "ticks": ""
             }
            },
            "type": "scatter3d"
           }
          ],
          "scattercarpet": [
           {
            "marker": {
             "colorbar": {
              "outlinewidth": 0,
              "ticks": ""
             }
            },
            "type": "scattercarpet"
           }
          ],
          "scattergeo": [
           {
            "marker": {
             "colorbar": {
              "outlinewidth": 0,
              "ticks": ""
             }
            },
            "type": "scattergeo"
           }
          ],
          "scattergl": [
           {
            "marker": {
             "colorbar": {
              "outlinewidth": 0,
              "ticks": ""
             }
            },
            "type": "scattergl"
           }
          ],
          "scattermapbox": [
           {
            "marker": {
             "colorbar": {
              "outlinewidth": 0,
              "ticks": ""
             }
            },
            "type": "scattermapbox"
           }
          ],
          "scatterpolar": [
           {
            "marker": {
             "colorbar": {
              "outlinewidth": 0,
              "ticks": ""
             }
            },
            "type": "scatterpolar"
           }
          ],
          "scatterpolargl": [
           {
            "marker": {
             "colorbar": {
              "outlinewidth": 0,
              "ticks": ""
             }
            },
            "type": "scatterpolargl"
           }
          ],
          "scatterternary": [
           {
            "marker": {
             "colorbar": {
              "outlinewidth": 0,
              "ticks": ""
             }
            },
            "type": "scatterternary"
           }
          ],
          "surface": [
           {
            "colorbar": {
             "outlinewidth": 0,
             "ticks": ""
            },
            "colorscale": [
             [
              0,
              "#0d0887"
             ],
             [
              0.1111111111111111,
              "#46039f"
             ],
             [
              0.2222222222222222,
              "#7201a8"
             ],
             [
              0.3333333333333333,
              "#9c179e"
             ],
             [
              0.4444444444444444,
              "#bd3786"
             ],
             [
              0.5555555555555556,
              "#d8576b"
             ],
             [
              0.6666666666666666,
              "#ed7953"
             ],
             [
              0.7777777777777778,
              "#fb9f3a"
             ],
             [
              0.8888888888888888,
              "#fdca26"
             ],
             [
              1,
              "#f0f921"
             ]
            ],
            "type": "surface"
           }
          ],
          "table": [
           {
            "cells": {
             "fill": {
              "color": "#EBF0F8"
             },
             "line": {
              "color": "white"
             }
            },
            "header": {
             "fill": {
              "color": "#C8D4E3"
             },
             "line": {
              "color": "white"
             }
            },
            "type": "table"
           }
          ]
         },
         "layout": {
          "annotationdefaults": {
           "arrowcolor": "#2a3f5f",
           "arrowhead": 0,
           "arrowwidth": 1
          },
          "autotypenumbers": "strict",
          "coloraxis": {
           "colorbar": {
            "outlinewidth": 0,
            "ticks": ""
           }
          },
          "colorscale": {
           "diverging": [
            [
             0,
             "#8e0152"
            ],
            [
             0.1,
             "#c51b7d"
            ],
            [
             0.2,
             "#de77ae"
            ],
            [
             0.3,
             "#f1b6da"
            ],
            [
             0.4,
             "#fde0ef"
            ],
            [
             0.5,
             "#f7f7f7"
            ],
            [
             0.6,
             "#e6f5d0"
            ],
            [
             0.7,
             "#b8e186"
            ],
            [
             0.8,
             "#7fbc41"
            ],
            [
             0.9,
             "#4d9221"
            ],
            [
             1,
             "#276419"
            ]
           ],
           "sequential": [
            [
             0,
             "#0d0887"
            ],
            [
             0.1111111111111111,
             "#46039f"
            ],
            [
             0.2222222222222222,
             "#7201a8"
            ],
            [
             0.3333333333333333,
             "#9c179e"
            ],
            [
             0.4444444444444444,
             "#bd3786"
            ],
            [
             0.5555555555555556,
             "#d8576b"
            ],
            [
             0.6666666666666666,
             "#ed7953"
            ],
            [
             0.7777777777777778,
             "#fb9f3a"
            ],
            [
             0.8888888888888888,
             "#fdca26"
            ],
            [
             1,
             "#f0f921"
            ]
           ],
           "sequentialminus": [
            [
             0,
             "#0d0887"
            ],
            [
             0.1111111111111111,
             "#46039f"
            ],
            [
             0.2222222222222222,
             "#7201a8"
            ],
            [
             0.3333333333333333,
             "#9c179e"
            ],
            [
             0.4444444444444444,
             "#bd3786"
            ],
            [
             0.5555555555555556,
             "#d8576b"
            ],
            [
             0.6666666666666666,
             "#ed7953"
            ],
            [
             0.7777777777777778,
             "#fb9f3a"
            ],
            [
             0.8888888888888888,
             "#fdca26"
            ],
            [
             1,
             "#f0f921"
            ]
           ]
          },
          "colorway": [
           "#636efa",
           "#EF553B",
           "#00cc96",
           "#ab63fa",
           "#FFA15A",
           "#19d3f3",
           "#FF6692",
           "#B6E880",
           "#FF97FF",
           "#FECB52"
          ],
          "font": {
           "color": "#2a3f5f"
          },
          "geo": {
           "bgcolor": "white",
           "lakecolor": "white",
           "landcolor": "#E5ECF6",
           "showlakes": true,
           "showland": true,
           "subunitcolor": "white"
          },
          "hoverlabel": {
           "align": "left"
          },
          "hovermode": "closest",
          "mapbox": {
           "style": "light"
          },
          "paper_bgcolor": "white",
          "plot_bgcolor": "#E5ECF6",
          "polar": {
           "angularaxis": {
            "gridcolor": "white",
            "linecolor": "white",
            "ticks": ""
           },
           "bgcolor": "#E5ECF6",
           "radialaxis": {
            "gridcolor": "white",
            "linecolor": "white",
            "ticks": ""
           }
          },
          "scene": {
           "xaxis": {
            "backgroundcolor": "#E5ECF6",
            "gridcolor": "white",
            "gridwidth": 2,
            "linecolor": "white",
            "showbackground": true,
            "ticks": "",
            "zerolinecolor": "white"
           },
           "yaxis": {
            "backgroundcolor": "#E5ECF6",
            "gridcolor": "white",
            "gridwidth": 2,
            "linecolor": "white",
            "showbackground": true,
            "ticks": "",
            "zerolinecolor": "white"
           },
           "zaxis": {
            "backgroundcolor": "#E5ECF6",
            "gridcolor": "white",
            "gridwidth": 2,
            "linecolor": "white",
            "showbackground": true,
            "ticks": "",
            "zerolinecolor": "white"
           }
          },
          "shapedefaults": {
           "line": {
            "color": "#2a3f5f"
           }
          },
          "ternary": {
           "aaxis": {
            "gridcolor": "white",
            "linecolor": "white",
            "ticks": ""
           },
           "baxis": {
            "gridcolor": "white",
            "linecolor": "white",
            "ticks": ""
           },
           "bgcolor": "#E5ECF6",
           "caxis": {
            "gridcolor": "white",
            "linecolor": "white",
            "ticks": ""
           }
          },
          "title": {
           "x": 0.05
          },
          "xaxis": {
           "automargin": true,
           "gridcolor": "white",
           "linecolor": "white",
           "ticks": "",
           "title": {
            "standoff": 15
           },
           "zerolinecolor": "white",
           "zerolinewidth": 2
          },
          "yaxis": {
           "automargin": true,
           "gridcolor": "white",
           "linecolor": "white",
           "ticks": "",
           "title": {
            "standoff": 15
           },
           "zerolinecolor": "white",
           "zerolinewidth": 2
          }
         }
        },
        "xaxis": {
         "anchor": "y",
         "domain": [
          0,
          1
         ],
         "title": {
          "text": "Rated power in kVA"
         }
        },
        "yaxis": {
         "anchor": "x",
         "domain": [
          0,
          1
         ],
         "title": {
          "text": "Transformer unit price in EUR"
         }
        }
       }
      }
     },
     "metadata": {},
     "output_type": "display_data"
    }
   ],
   "source": [
    "fig = px.scatter(\n",
    "    outlier_df,\n",
    "    x='Rated power in kVA',\n",
    "    y='Transformer unit price in EUR',\n",
    "    color='Outlier',\n",
    "    hover_data='Project name'\n",
    ")\n",
    "# Update the layout to position the legend inside the bottom-right\n",
    "fig.update_layout(\n",
    "    legend=dict(\n",
    "        x=1,              # Position x: Right of the plot (1 is the far right)\n",
    "        y=0,              # Position y: Bottom of the plot (0 is the bottom)\n",
    "        xanchor='right',   # Anchor legend's x-position to the right\n",
    "        yanchor='bottom',  # Anchor legend's y-position to the bottom\n",
    "        bgcolor='rgba(255, 255, 255, 0.5)'  # Optional: Set a semi-transparent background for the legend\n",
    "    )\n",
    ")\n",
    "fig.show()"
   ]
  },
  {
   "cell_type": "code",
   "execution_count": null,
   "metadata": {},
   "outputs": [],
   "source": []
  },
  {
   "cell_type": "code",
   "execution_count": 46,
   "metadata": {},
   "outputs": [],
   "source": [
    "df = pd.get_dummies(\n",
    "    df, columns=['dry_or_oil', 'primary_winding', 'secondary_winding']\n",
    ").copy()"
   ]
  },
  {
   "cell_type": "code",
   "execution_count": 47,
   "metadata": {},
   "outputs": [
    {
     "name": "stdout",
     "output_type": "stream",
     "text": [
      "                      Feature  Lasso_Coefficient\n",
      "4              dry_or_oil_Dry          -0.147524\n",
      "6  secondary_winding_Aluminum          -0.029322\n",
      "5    primary_winding_Aluminum          -0.000000\n",
      "0                    quantity           0.044076\n",
      "3     rated_volt_primary_side           0.161098\n",
      "2                no_load_loss           0.170626\n",
      "1             rated_power_kVA           0.408806\n"
     ]
    }
   ],
   "source": [
    "chosen_columns = [\n",
    "    'quantity',\n",
    "    'rated_power_kVA', \n",
    "    'no_load_loss', \n",
    "    # 'full_load_loss_75',\n",
    "    # 'full_load_loss_120',\n",
    "    'rated_volt_primary_side',\n",
    "    'dry_or_oil_Dry',\n",
    "    # 'dry_or_oil_Oil',\n",
    "    'primary_winding_Aluminum',\n",
    "    # 'primary_winding_Copper',\n",
    "    'secondary_winding_Aluminum',\n",
    "    # 'secondary_winding_Copper',\n",
    "    # 'primary_material_price'\n",
    "]\n",
    "\n",
    "y = np.log(df['transformer_unit_price'])\n",
    "# y = df['transformer_unit_price'] / df['transformer_unit_price'].mean()\n",
    "X = df[chosen_columns].astype(float)\n",
    "\n",
    "scaler = StandardScaler()\n",
    "X_scaled = scaler.fit_transform(X)\n",
    "\n",
    "en = ElasticNet(alpha=0.1, l1_ratio=0.5)\n",
    "en.fit(X_scaled, y)\n",
    "\n",
    "# Coefficients and Feature Importance\n",
    "feature_importance = pd.DataFrame(\n",
    "    {'Feature': X.columns, \n",
    "    'Lasso_Coefficient': en.coef_}\n",
    ")\n",
    "\n",
    "print(feature_importance.sort_values(by='Lasso_Coefficient'))"
   ]
  },
  {
   "cell_type": "code",
   "execution_count": 48,
   "metadata": {},
   "outputs": [
    {
     "data": {
      "text/plain": [
       "np.float64(8446.190314844796)"
      ]
     },
     "execution_count": 48,
     "metadata": {},
     "output_type": "execute_result"
    }
   ],
   "source": [
    "df['rated_volt_primary_side'].std()"
   ]
  },
  {
   "cell_type": "code",
   "execution_count": 49,
   "metadata": {},
   "outputs": [
    {
     "data": {
      "text/plain": [
       "np.float64(5331.498402488682)"
      ]
     },
     "execution_count": 49,
     "metadata": {},
     "output_type": "execute_result"
    }
   ],
   "source": [
    "df['rated_power_kVA'].std()"
   ]
  },
  {
   "cell_type": "code",
   "execution_count": 50,
   "metadata": {},
   "outputs": [
    {
     "data": {
      "text/plain": [
       "np.float64(0.4170336944602445)"
      ]
     },
     "execution_count": 50,
     "metadata": {},
     "output_type": "execute_result"
    }
   ],
   "source": [
    "df['secondary_winding_Copper'].std()"
   ]
  },
  {
   "cell_type": "code",
   "execution_count": 51,
   "metadata": {},
   "outputs": [
    {
     "data": {
      "text/html": [
       "<div>\n",
       "<style scoped>\n",
       "    .dataframe tbody tr th:only-of-type {\n",
       "        vertical-align: middle;\n",
       "    }\n",
       "\n",
       "    .dataframe tbody tr th {\n",
       "        vertical-align: top;\n",
       "    }\n",
       "\n",
       "    .dataframe thead th {\n",
       "        text-align: right;\n",
       "    }\n",
       "</style>\n",
       "<table border=\"1\" class=\"dataframe\">\n",
       "  <thead>\n",
       "    <tr style=\"text-align: right;\">\n",
       "      <th></th>\n",
       "      <th>quantity</th>\n",
       "      <th>rated_power_kVA</th>\n",
       "      <th>rated_volt_primary_side</th>\n",
       "      <th>alu_price_per_kg</th>\n",
       "      <th>copper_price_per_kg</th>\n",
       "      <th>dry_or_oil_Oil</th>\n",
       "      <th>primary_material_price</th>\n",
       "      <th>secondary_material_price</th>\n",
       "    </tr>\n",
       "  </thead>\n",
       "  <tbody>\n",
       "    <tr>\n",
       "      <th>0</th>\n",
       "      <td>0.0144</td>\n",
       "      <td>0.626</td>\n",
       "      <td>0.1217</td>\n",
       "      <td>0.1812</td>\n",
       "      <td>0.0193</td>\n",
       "      <td>0.4933</td>\n",
       "      <td>-0.188</td>\n",
       "      <td>0.1803</td>\n",
       "    </tr>\n",
       "  </tbody>\n",
       "</table>\n",
       "</div>"
      ],
      "text/plain": [
       "   quantity  rated_power_kVA  rated_volt_primary_side  alu_price_per_kg  \\\n",
       "0    0.0144            0.626                   0.1217            0.1812   \n",
       "\n",
       "   copper_price_per_kg  dry_or_oil_Oil  primary_material_price  \\\n",
       "0               0.0193          0.4933                  -0.188   \n",
       "\n",
       "   secondary_material_price  \n",
       "0                    0.1803  "
      ]
     },
     "execution_count": 51,
     "metadata": {},
     "output_type": "execute_result"
    }
   ],
   "source": [
    "pd.DataFrame({\n",
    "    'quantity': [0.0144],\n",
    "    'rated_power_kVA': [0.6260],\n",
    "    'rated_volt_primary_side': [0.1217],\n",
    "    'alu_price_per_kg': [0.1812],\n",
    "    'copper_price_per_kg': [0.0193],\n",
    "    'dry_or_oil_Oil': [0.4933],\n",
    "    'primary_material_price': [-0.1880],\n",
    "    'secondary_material_price': [0.1803]\n",
    "})"
   ]
  },
  {
   "cell_type": "code",
   "execution_count": 52,
   "metadata": {},
   "outputs": [
    {
     "ename": "ValueError",
     "evalue": "If using all scalar values, you must pass an index",
     "output_type": "error",
     "traceback": [
      "\u001b[0;31m---------------------------------------------------------------------------\u001b[0m",
      "\u001b[0;31mValueError\u001b[0m                                Traceback (most recent call last)",
      "Cell \u001b[0;32mIn[52], line 2\u001b[0m\n\u001b[1;32m      1\u001b[0m px\u001b[38;5;241m.\u001b[39mbar(\n\u001b[0;32m----> 2\u001b[0m \u001b[43mpd\u001b[49m\u001b[38;5;241;43m.\u001b[39;49m\u001b[43mDataFrame\u001b[49m\u001b[43m(\u001b[49m\u001b[43m{\u001b[49m\n\u001b[1;32m      3\u001b[0m \u001b[43m    \u001b[49m\u001b[38;5;124;43m'\u001b[39;49m\u001b[38;5;124;43mquantity\u001b[39;49m\u001b[38;5;124;43m'\u001b[39;49m\u001b[43m:\u001b[49m\u001b[43m \u001b[49m\u001b[38;5;241;43m0.0144\u001b[39;49m\u001b[43m,\u001b[49m\n\u001b[1;32m      4\u001b[0m \u001b[43m    \u001b[49m\u001b[38;5;124;43m'\u001b[39;49m\u001b[38;5;124;43mrated_power_kVA\u001b[39;49m\u001b[38;5;124;43m'\u001b[39;49m\u001b[43m:\u001b[49m\u001b[43m \u001b[49m\u001b[38;5;241;43m0.6260\u001b[39;49m\u001b[43m,\u001b[49m\n\u001b[1;32m      5\u001b[0m \u001b[43m    \u001b[49m\u001b[38;5;124;43m'\u001b[39;49m\u001b[38;5;124;43mrated_volt_primary_side\u001b[39;49m\u001b[38;5;124;43m'\u001b[39;49m\u001b[43m:\u001b[49m\u001b[43m \u001b[49m\u001b[38;5;241;43m0.1217\u001b[39;49m\u001b[43m,\u001b[49m\n\u001b[1;32m      6\u001b[0m \u001b[43m    \u001b[49m\u001b[38;5;124;43m'\u001b[39;49m\u001b[38;5;124;43malu_price_per_kg\u001b[39;49m\u001b[38;5;124;43m'\u001b[39;49m\u001b[43m:\u001b[49m\u001b[43m \u001b[49m\u001b[38;5;241;43m0.1812\u001b[39;49m\u001b[43m,\u001b[49m\n\u001b[1;32m      7\u001b[0m \u001b[43m    \u001b[49m\u001b[38;5;124;43m'\u001b[39;49m\u001b[38;5;124;43mcopper_price_per_kg\u001b[39;49m\u001b[38;5;124;43m'\u001b[39;49m\u001b[43m:\u001b[49m\u001b[43m \u001b[49m\u001b[38;5;241;43m0.0193\u001b[39;49m\u001b[43m,\u001b[49m\n\u001b[1;32m      8\u001b[0m \u001b[43m    \u001b[49m\u001b[38;5;124;43m'\u001b[39;49m\u001b[38;5;124;43mdry_or_oil_Oil\u001b[39;49m\u001b[38;5;124;43m'\u001b[39;49m\u001b[43m:\u001b[49m\u001b[43m \u001b[49m\u001b[38;5;241;43m0.4933\u001b[39;49m\u001b[43m,\u001b[49m\n\u001b[1;32m      9\u001b[0m \u001b[43m    \u001b[49m\u001b[38;5;124;43m'\u001b[39;49m\u001b[38;5;124;43mprimary_material_price\u001b[39;49m\u001b[38;5;124;43m'\u001b[39;49m\u001b[43m:\u001b[49m\u001b[43m \u001b[49m\u001b[38;5;241;43m-\u001b[39;49m\u001b[38;5;241;43m0.1880\u001b[39;49m\u001b[43m,\u001b[49m\n\u001b[1;32m     10\u001b[0m \u001b[43m    \u001b[49m\u001b[38;5;124;43m'\u001b[39;49m\u001b[38;5;124;43msecondary_material_price\u001b[39;49m\u001b[38;5;124;43m'\u001b[39;49m\u001b[43m:\u001b[49m\u001b[43m \u001b[49m\u001b[38;5;241;43m0.1803\u001b[39;49m\n\u001b[1;32m     11\u001b[0m \u001b[43m}\u001b[49m\u001b[43m)\u001b[49m)\n",
      "File \u001b[0;32m~/Documents/GitHub/abbccc/venv/lib/python3.10/site-packages/pandas/core/frame.py:778\u001b[0m, in \u001b[0;36mDataFrame.__init__\u001b[0;34m(self, data, index, columns, dtype, copy)\u001b[0m\n\u001b[1;32m    772\u001b[0m     mgr \u001b[38;5;241m=\u001b[39m \u001b[38;5;28mself\u001b[39m\u001b[38;5;241m.\u001b[39m_init_mgr(\n\u001b[1;32m    773\u001b[0m         data, axes\u001b[38;5;241m=\u001b[39m{\u001b[38;5;124m\"\u001b[39m\u001b[38;5;124mindex\u001b[39m\u001b[38;5;124m\"\u001b[39m: index, \u001b[38;5;124m\"\u001b[39m\u001b[38;5;124mcolumns\u001b[39m\u001b[38;5;124m\"\u001b[39m: columns}, dtype\u001b[38;5;241m=\u001b[39mdtype, copy\u001b[38;5;241m=\u001b[39mcopy\n\u001b[1;32m    774\u001b[0m     )\n\u001b[1;32m    776\u001b[0m \u001b[38;5;28;01melif\u001b[39;00m \u001b[38;5;28misinstance\u001b[39m(data, \u001b[38;5;28mdict\u001b[39m):\n\u001b[1;32m    777\u001b[0m     \u001b[38;5;66;03m# GH#38939 de facto copy defaults to False only in non-dict cases\u001b[39;00m\n\u001b[0;32m--> 778\u001b[0m     mgr \u001b[38;5;241m=\u001b[39m \u001b[43mdict_to_mgr\u001b[49m\u001b[43m(\u001b[49m\u001b[43mdata\u001b[49m\u001b[43m,\u001b[49m\u001b[43m \u001b[49m\u001b[43mindex\u001b[49m\u001b[43m,\u001b[49m\u001b[43m \u001b[49m\u001b[43mcolumns\u001b[49m\u001b[43m,\u001b[49m\u001b[43m \u001b[49m\u001b[43mdtype\u001b[49m\u001b[38;5;241;43m=\u001b[39;49m\u001b[43mdtype\u001b[49m\u001b[43m,\u001b[49m\u001b[43m \u001b[49m\u001b[43mcopy\u001b[49m\u001b[38;5;241;43m=\u001b[39;49m\u001b[43mcopy\u001b[49m\u001b[43m,\u001b[49m\u001b[43m \u001b[49m\u001b[43mtyp\u001b[49m\u001b[38;5;241;43m=\u001b[39;49m\u001b[43mmanager\u001b[49m\u001b[43m)\u001b[49m\n\u001b[1;32m    779\u001b[0m \u001b[38;5;28;01melif\u001b[39;00m \u001b[38;5;28misinstance\u001b[39m(data, ma\u001b[38;5;241m.\u001b[39mMaskedArray):\n\u001b[1;32m    780\u001b[0m     \u001b[38;5;28;01mfrom\u001b[39;00m \u001b[38;5;21;01mnumpy\u001b[39;00m\u001b[38;5;21;01m.\u001b[39;00m\u001b[38;5;21;01mma\u001b[39;00m \u001b[38;5;28;01mimport\u001b[39;00m mrecords\n",
      "File \u001b[0;32m~/Documents/GitHub/abbccc/venv/lib/python3.10/site-packages/pandas/core/internals/construction.py:503\u001b[0m, in \u001b[0;36mdict_to_mgr\u001b[0;34m(data, index, columns, dtype, typ, copy)\u001b[0m\n\u001b[1;32m    499\u001b[0m     \u001b[38;5;28;01melse\u001b[39;00m:\n\u001b[1;32m    500\u001b[0m         \u001b[38;5;66;03m# dtype check to exclude e.g. range objects, scalars\u001b[39;00m\n\u001b[1;32m    501\u001b[0m         arrays \u001b[38;5;241m=\u001b[39m [x\u001b[38;5;241m.\u001b[39mcopy() \u001b[38;5;28;01mif\u001b[39;00m \u001b[38;5;28mhasattr\u001b[39m(x, \u001b[38;5;124m\"\u001b[39m\u001b[38;5;124mdtype\u001b[39m\u001b[38;5;124m\"\u001b[39m) \u001b[38;5;28;01melse\u001b[39;00m x \u001b[38;5;28;01mfor\u001b[39;00m x \u001b[38;5;129;01min\u001b[39;00m arrays]\n\u001b[0;32m--> 503\u001b[0m \u001b[38;5;28;01mreturn\u001b[39;00m \u001b[43marrays_to_mgr\u001b[49m\u001b[43m(\u001b[49m\u001b[43marrays\u001b[49m\u001b[43m,\u001b[49m\u001b[43m \u001b[49m\u001b[43mcolumns\u001b[49m\u001b[43m,\u001b[49m\u001b[43m \u001b[49m\u001b[43mindex\u001b[49m\u001b[43m,\u001b[49m\u001b[43m \u001b[49m\u001b[43mdtype\u001b[49m\u001b[38;5;241;43m=\u001b[39;49m\u001b[43mdtype\u001b[49m\u001b[43m,\u001b[49m\u001b[43m \u001b[49m\u001b[43mtyp\u001b[49m\u001b[38;5;241;43m=\u001b[39;49m\u001b[43mtyp\u001b[49m\u001b[43m,\u001b[49m\u001b[43m \u001b[49m\u001b[43mconsolidate\u001b[49m\u001b[38;5;241;43m=\u001b[39;49m\u001b[43mcopy\u001b[49m\u001b[43m)\u001b[49m\n",
      "File \u001b[0;32m~/Documents/GitHub/abbccc/venv/lib/python3.10/site-packages/pandas/core/internals/construction.py:114\u001b[0m, in \u001b[0;36marrays_to_mgr\u001b[0;34m(arrays, columns, index, dtype, verify_integrity, typ, consolidate)\u001b[0m\n\u001b[1;32m    111\u001b[0m \u001b[38;5;28;01mif\u001b[39;00m verify_integrity:\n\u001b[1;32m    112\u001b[0m     \u001b[38;5;66;03m# figure out the index, if necessary\u001b[39;00m\n\u001b[1;32m    113\u001b[0m     \u001b[38;5;28;01mif\u001b[39;00m index \u001b[38;5;129;01mis\u001b[39;00m \u001b[38;5;28;01mNone\u001b[39;00m:\n\u001b[0;32m--> 114\u001b[0m         index \u001b[38;5;241m=\u001b[39m \u001b[43m_extract_index\u001b[49m\u001b[43m(\u001b[49m\u001b[43marrays\u001b[49m\u001b[43m)\u001b[49m\n\u001b[1;32m    115\u001b[0m     \u001b[38;5;28;01melse\u001b[39;00m:\n\u001b[1;32m    116\u001b[0m         index \u001b[38;5;241m=\u001b[39m ensure_index(index)\n",
      "File \u001b[0;32m~/Documents/GitHub/abbccc/venv/lib/python3.10/site-packages/pandas/core/internals/construction.py:667\u001b[0m, in \u001b[0;36m_extract_index\u001b[0;34m(data)\u001b[0m\n\u001b[1;32m    664\u001b[0m         \u001b[38;5;28;01mraise\u001b[39;00m \u001b[38;5;167;01mValueError\u001b[39;00m(\u001b[38;5;124m\"\u001b[39m\u001b[38;5;124mPer-column arrays must each be 1-dimensional\u001b[39m\u001b[38;5;124m\"\u001b[39m)\n\u001b[1;32m    666\u001b[0m \u001b[38;5;28;01mif\u001b[39;00m \u001b[38;5;129;01mnot\u001b[39;00m indexes \u001b[38;5;129;01mand\u001b[39;00m \u001b[38;5;129;01mnot\u001b[39;00m raw_lengths:\n\u001b[0;32m--> 667\u001b[0m     \u001b[38;5;28;01mraise\u001b[39;00m \u001b[38;5;167;01mValueError\u001b[39;00m(\u001b[38;5;124m\"\u001b[39m\u001b[38;5;124mIf using all scalar values, you must pass an index\u001b[39m\u001b[38;5;124m\"\u001b[39m)\n\u001b[1;32m    669\u001b[0m \u001b[38;5;28;01mif\u001b[39;00m have_series:\n\u001b[1;32m    670\u001b[0m     index \u001b[38;5;241m=\u001b[39m union_indexes(indexes)\n",
      "\u001b[0;31mValueError\u001b[0m: If using all scalar values, you must pass an index"
     ]
    }
   ],
   "source": [
    "px.bar(\n",
    "pd.DataFrame({\n",
    "    'quantity': 0.0144,\n",
    "    'rated_power_kVA': 0.6260,\n",
    "    'rated_volt_primary_side': 0.1217,\n",
    "    'alu_price_per_kg': 0.1812,\n",
    "    'copper_price_per_kg': 0.0193,\n",
    "    'dry_or_oil_Oil': 0.4933,\n",
    "    'primary_material_price': -0.1880,\n",
    "    'secondary_material_price': 0.1803\n",
    "}))"
   ]
  }
 ],
 "metadata": {
  "kernelspec": {
   "display_name": "venv",
   "language": "python",
   "name": "python3"
  },
  "language_info": {
   "codemirror_mode": {
    "name": "ipython",
    "version": 3
   },
   "file_extension": ".py",
   "mimetype": "text/x-python",
   "name": "python",
   "nbconvert_exporter": "python",
   "pygments_lexer": "ipython3",
   "version": "3.10.12"
  }
 },
 "nbformat": 4,
 "nbformat_minor": 2
}
