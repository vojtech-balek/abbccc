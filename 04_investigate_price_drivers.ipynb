{
 "cells": [
  {
   "cell_type": "code",
   "execution_count": 46,
   "metadata": {},
   "outputs": [],
   "source": [
    "import datetime\n",
    "\n",
    "import pandas as pd\n",
    "import numpy as np\n",
    "\n",
    "import statsmodels.api as sm\n",
    "import matplotlib.pyplot as plt\n",
    "import plotly.express as px\n",
    "\n",
    "from sklearn.preprocessing import StandardScaler\n",
    "from sklearn.linear_model import ElasticNet, Lasso"
   ]
  },
  {
   "cell_type": "code",
   "execution_count": 65,
   "metadata": {},
   "outputs": [
    {
     "data": {
      "text/html": [
       "<div>\n",
       "<style scoped>\n",
       "    .dataframe tbody tr th:only-of-type {\n",
       "        vertical-align: middle;\n",
       "    }\n",
       "\n",
       "    .dataframe tbody tr th {\n",
       "        vertical-align: top;\n",
       "    }\n",
       "\n",
       "    .dataframe thead th {\n",
       "        text-align: right;\n",
       "    }\n",
       "</style>\n",
       "<table border=\"1\" class=\"dataframe\">\n",
       "  <thead>\n",
       "    <tr style=\"text-align: right;\">\n",
       "      <th></th>\n",
       "      <th>date</th>\n",
       "      <th>quantity</th>\n",
       "      <th>suppliers_currency</th>\n",
       "      <th>transformer_unit_price</th>\n",
       "      <th>dry_or_oil</th>\n",
       "      <th>rated_power_kVA</th>\n",
       "      <th>primary_winding</th>\n",
       "      <th>secondary_winding</th>\n",
       "      <th>no_load_loss</th>\n",
       "      <th>full_load_loss_75</th>\n",
       "      <th>full_load_loss_120</th>\n",
       "      <th>rated_volt_primary_side</th>\n",
       "    </tr>\n",
       "  </thead>\n",
       "  <tbody>\n",
       "    <tr>\n",
       "      <th>0</th>\n",
       "      <td>2021-04-28</td>\n",
       "      <td>6.0</td>\n",
       "      <td>EUR</td>\n",
       "      <td>708000.0</td>\n",
       "      <td>Oil</td>\n",
       "      <td>19080.0</td>\n",
       "      <td>Copper</td>\n",
       "      <td>Copper</td>\n",
       "      <td>19002.544911</td>\n",
       "      <td>150154.155650</td>\n",
       "      <td>187698.233981</td>\n",
       "      <td>33000.0</td>\n",
       "    </tr>\n",
       "    <tr>\n",
       "      <th>3</th>\n",
       "      <td>2023-03-14</td>\n",
       "      <td>4.0</td>\n",
       "      <td>EUR</td>\n",
       "      <td>235000.0</td>\n",
       "      <td>Oil</td>\n",
       "      <td>11000.0</td>\n",
       "      <td>Copper</td>\n",
       "      <td>Copper</td>\n",
       "      <td>11825.516231</td>\n",
       "      <td>89149.546166</td>\n",
       "      <td>108715.888044</td>\n",
       "      <td>20000.0</td>\n",
       "    </tr>\n",
       "    <tr>\n",
       "      <th>8</th>\n",
       "      <td>2021-09-30</td>\n",
       "      <td>5.0</td>\n",
       "      <td>EUR</td>\n",
       "      <td>267000.0</td>\n",
       "      <td>Oil</td>\n",
       "      <td>12000.0</td>\n",
       "      <td>Copper</td>\n",
       "      <td>Copper</td>\n",
       "      <td>8000.000000</td>\n",
       "      <td>138000.000000</td>\n",
       "      <td>146000.000000</td>\n",
       "      <td>21000.0</td>\n",
       "    </tr>\n",
       "    <tr>\n",
       "      <th>9</th>\n",
       "      <td>2021-09-30</td>\n",
       "      <td>5.0</td>\n",
       "      <td>EUR</td>\n",
       "      <td>267000.0</td>\n",
       "      <td>Oil</td>\n",
       "      <td>12000.0</td>\n",
       "      <td>Copper</td>\n",
       "      <td>Copper</td>\n",
       "      <td>8000.000000</td>\n",
       "      <td>138000.000000</td>\n",
       "      <td>146000.000000</td>\n",
       "      <td>24000.0</td>\n",
       "    </tr>\n",
       "    <tr>\n",
       "      <th>10</th>\n",
       "      <td>2020-12-02</td>\n",
       "      <td>1.0</td>\n",
       "      <td>EUR</td>\n",
       "      <td>56200.0</td>\n",
       "      <td>Dry</td>\n",
       "      <td>5000.0</td>\n",
       "      <td>Aluminum</td>\n",
       "      <td>Aluminum</td>\n",
       "      <td>5000.000000</td>\n",
       "      <td>53043.000000</td>\n",
       "      <td>61000.000000</td>\n",
       "      <td>11000.0</td>\n",
       "    </tr>\n",
       "  </tbody>\n",
       "</table>\n",
       "</div>"
      ],
      "text/plain": [
       "          date  quantity suppliers_currency  transformer_unit_price  \\\n",
       "0   2021-04-28       6.0                EUR                708000.0   \n",
       "3   2023-03-14       4.0                EUR                235000.0   \n",
       "8   2021-09-30       5.0                EUR                267000.0   \n",
       "9   2021-09-30       5.0                EUR                267000.0   \n",
       "10  2020-12-02       1.0                EUR                 56200.0   \n",
       "\n",
       "   dry_or_oil  rated_power_kVA primary_winding secondary_winding  \\\n",
       "0         Oil          19080.0          Copper            Copper   \n",
       "3         Oil          11000.0          Copper            Copper   \n",
       "8         Oil          12000.0          Copper            Copper   \n",
       "9         Oil          12000.0          Copper            Copper   \n",
       "10        Dry           5000.0        Aluminum          Aluminum   \n",
       "\n",
       "    no_load_loss  full_load_loss_75  full_load_loss_120  \\\n",
       "0   19002.544911      150154.155650       187698.233981   \n",
       "3   11825.516231       89149.546166       108715.888044   \n",
       "8    8000.000000      138000.000000       146000.000000   \n",
       "9    8000.000000      138000.000000       146000.000000   \n",
       "10   5000.000000       53043.000000        61000.000000   \n",
       "\n",
       "    rated_volt_primary_side  \n",
       "0                   33000.0  \n",
       "3                   20000.0  \n",
       "8                   21000.0  \n",
       "9                   24000.0  \n",
       "10                  11000.0  "
      ]
     },
     "execution_count": 65,
     "metadata": {},
     "output_type": "execute_result"
    }
   ],
   "source": [
    "df = pd.read_csv('./output/v2.csv', index_col=0)\n",
    "df.head()"
   ]
  },
  {
   "cell_type": "code",
   "execution_count": 66,
   "metadata": {},
   "outputs": [],
   "source": [
    "df = pd.get_dummies(\n",
    "    df, columns=['dry_or_oil', 'primary_winding', 'secondary_winding']\n",
    ").copy()"
   ]
  },
  {
   "cell_type": "code",
   "execution_count": 67,
   "metadata": {},
   "outputs": [
    {
     "name": "stdout",
     "output_type": "stream",
     "text": [
      "                      Feature  Lasso_Coefficient\n",
      "4              dry_or_oil_Dry          -0.147524\n",
      "6  secondary_winding_Aluminum          -0.029322\n",
      "5    primary_winding_Aluminum          -0.000000\n",
      "0                    quantity           0.044076\n",
      "3     rated_volt_primary_side           0.161098\n",
      "2                no_load_loss           0.170626\n",
      "1             rated_power_kVA           0.408806\n"
     ]
    }
   ],
   "source": [
    "chosen_columns = [\n",
    "    'quantity',\n",
    "    'rated_power_kVA', \n",
    "    'no_load_loss', \n",
    "    # 'full_load_loss_75',\n",
    "    # 'full_load_loss_120',\n",
    "    'rated_volt_primary_side',\n",
    "    'dry_or_oil_Dry',\n",
    "    # 'dry_or_oil_Oil',\n",
    "    'primary_winding_Aluminum',\n",
    "    # 'primary_winding_Copper',\n",
    "    'secondary_winding_Aluminum',\n",
    "    # 'secondary_winding_Copper',\n",
    "    # 'primary_material_price'\n",
    "]\n",
    "\n",
    "y = np.log(df['transformer_unit_price'])\n",
    "# y = df['transformer_unit_price'] / df['transformer_unit_price'].mean()\n",
    "X = df[chosen_columns].astype(float)\n",
    "\n",
    "scaler = StandardScaler()\n",
    "X_scaled = scaler.fit_transform(X)\n",
    "\n",
    "en = ElasticNet(alpha=0.1, l1_ratio=0.5)\n",
    "en.fit(X_scaled, y)\n",
    "\n",
    "# Coefficients and Feature Importance\n",
    "feature_importance = pd.DataFrame(\n",
    "    {'Feature': X.columns, \n",
    "    'Lasso_Coefficient': en.coef_}\n",
    ")\n",
    "\n",
    "print(feature_importance.sort_values(by='Lasso_Coefficient'))"
   ]
  },
  {
   "cell_type": "code",
   "execution_count": 39,
   "metadata": {},
   "outputs": [
    {
     "data": {
      "text/plain": [
       "np.float64(8446.190314844796)"
      ]
     },
     "execution_count": 39,
     "metadata": {},
     "output_type": "execute_result"
    }
   ],
   "source": [
    "df['rated_volt_primary_side'].std()"
   ]
  },
  {
   "cell_type": "code",
   "execution_count": 40,
   "metadata": {},
   "outputs": [
    {
     "data": {
      "text/plain": [
       "np.float64(5331.498402488682)"
      ]
     },
     "execution_count": 40,
     "metadata": {},
     "output_type": "execute_result"
    }
   ],
   "source": [
    "df['rated_power_kVA'].std()"
   ]
  },
  {
   "cell_type": "code",
   "execution_count": 37,
   "metadata": {},
   "outputs": [
    {
     "data": {
      "text/plain": [
       "np.float64(0.4170336944602445)"
      ]
     },
     "execution_count": 37,
     "metadata": {},
     "output_type": "execute_result"
    }
   ],
   "source": [
    "df['secondary_winding_Copper'].std()"
   ]
  }
 ],
 "metadata": {
  "kernelspec": {
   "display_name": "venv",
   "language": "python",
   "name": "python3"
  },
  "language_info": {
   "codemirror_mode": {
    "name": "ipython",
    "version": 3
   },
   "file_extension": ".py",
   "mimetype": "text/x-python",
   "name": "python",
   "nbconvert_exporter": "python",
   "pygments_lexer": "ipython3",
   "version": "3.10.12"
  }
 },
 "nbformat": 4,
 "nbformat_minor": 2
}
