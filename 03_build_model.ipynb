{
 "cells": [
  {
   "cell_type": "code",
   "execution_count": 2,
   "metadata": {},
   "outputs": [],
   "source": [
    "import datetime\n",
    "\n",
    "import pandas as pd\n",
    "import numpy as np\n",
    "\n",
    "import statsmodels.api as sm\n",
    "import matplotlib.pyplot as plt\n",
    "import plotly.express as px"
   ]
  },
  {
   "cell_type": "code",
   "execution_count": 3,
   "metadata": {},
   "outputs": [
    {
     "data": {
      "text/html": [
       "<div>\n",
       "<style scoped>\n",
       "    .dataframe tbody tr th:only-of-type {\n",
       "        vertical-align: middle;\n",
       "    }\n",
       "\n",
       "    .dataframe tbody tr th {\n",
       "        vertical-align: top;\n",
       "    }\n",
       "\n",
       "    .dataframe thead th {\n",
       "        text-align: right;\n",
       "    }\n",
       "</style>\n",
       "<table border=\"1\" class=\"dataframe\">\n",
       "  <thead>\n",
       "    <tr style=\"text-align: right;\">\n",
       "      <th></th>\n",
       "      <th>date</th>\n",
       "      <th>quantity</th>\n",
       "      <th>suppliers_currency</th>\n",
       "      <th>transformer_unit_price</th>\n",
       "      <th>dry_or_oil</th>\n",
       "      <th>rated_power_kVA</th>\n",
       "      <th>primary_winding</th>\n",
       "      <th>secondary_winding</th>\n",
       "      <th>no_load_loss</th>\n",
       "      <th>full_load_loss_75</th>\n",
       "      <th>full_load_loss_120</th>\n",
       "      <th>rated_volt_primary_side</th>\n",
       "    </tr>\n",
       "  </thead>\n",
       "  <tbody>\n",
       "    <tr>\n",
       "      <th>0</th>\n",
       "      <td>2021-04-28</td>\n",
       "      <td>6.0</td>\n",
       "      <td>EUR</td>\n",
       "      <td>708000.0</td>\n",
       "      <td>Oil</td>\n",
       "      <td>19080.0</td>\n",
       "      <td>Copper</td>\n",
       "      <td>Copper</td>\n",
       "      <td>19002.544911</td>\n",
       "      <td>150154.155650</td>\n",
       "      <td>187698.233981</td>\n",
       "      <td>33000.0</td>\n",
       "    </tr>\n",
       "    <tr>\n",
       "      <th>3</th>\n",
       "      <td>2023-03-14</td>\n",
       "      <td>4.0</td>\n",
       "      <td>EUR</td>\n",
       "      <td>235000.0</td>\n",
       "      <td>Oil</td>\n",
       "      <td>11000.0</td>\n",
       "      <td>Copper</td>\n",
       "      <td>Copper</td>\n",
       "      <td>11825.516231</td>\n",
       "      <td>89149.546166</td>\n",
       "      <td>108715.888044</td>\n",
       "      <td>20000.0</td>\n",
       "    </tr>\n",
       "    <tr>\n",
       "      <th>8</th>\n",
       "      <td>2021-09-30</td>\n",
       "      <td>5.0</td>\n",
       "      <td>EUR</td>\n",
       "      <td>267000.0</td>\n",
       "      <td>Oil</td>\n",
       "      <td>12000.0</td>\n",
       "      <td>Copper</td>\n",
       "      <td>Copper</td>\n",
       "      <td>8000.000000</td>\n",
       "      <td>138000.000000</td>\n",
       "      <td>146000.000000</td>\n",
       "      <td>21000.0</td>\n",
       "    </tr>\n",
       "    <tr>\n",
       "      <th>9</th>\n",
       "      <td>2021-09-30</td>\n",
       "      <td>5.0</td>\n",
       "      <td>EUR</td>\n",
       "      <td>267000.0</td>\n",
       "      <td>Oil</td>\n",
       "      <td>12000.0</td>\n",
       "      <td>Copper</td>\n",
       "      <td>Copper</td>\n",
       "      <td>8000.000000</td>\n",
       "      <td>138000.000000</td>\n",
       "      <td>146000.000000</td>\n",
       "      <td>24000.0</td>\n",
       "    </tr>\n",
       "    <tr>\n",
       "      <th>10</th>\n",
       "      <td>2020-12-02</td>\n",
       "      <td>1.0</td>\n",
       "      <td>EUR</td>\n",
       "      <td>56200.0</td>\n",
       "      <td>Dry</td>\n",
       "      <td>5000.0</td>\n",
       "      <td>Aluminum</td>\n",
       "      <td>Aluminum</td>\n",
       "      <td>5000.000000</td>\n",
       "      <td>53043.000000</td>\n",
       "      <td>61000.000000</td>\n",
       "      <td>11000.0</td>\n",
       "    </tr>\n",
       "  </tbody>\n",
       "</table>\n",
       "</div>"
      ],
      "text/plain": [
       "          date  quantity suppliers_currency  transformer_unit_price  \\\n",
       "0   2021-04-28       6.0                EUR                708000.0   \n",
       "3   2023-03-14       4.0                EUR                235000.0   \n",
       "8   2021-09-30       5.0                EUR                267000.0   \n",
       "9   2021-09-30       5.0                EUR                267000.0   \n",
       "10  2020-12-02       1.0                EUR                 56200.0   \n",
       "\n",
       "   dry_or_oil  rated_power_kVA primary_winding secondary_winding  \\\n",
       "0         Oil          19080.0          Copper            Copper   \n",
       "3         Oil          11000.0          Copper            Copper   \n",
       "8         Oil          12000.0          Copper            Copper   \n",
       "9         Oil          12000.0          Copper            Copper   \n",
       "10        Dry           5000.0        Aluminum          Aluminum   \n",
       "\n",
       "    no_load_loss  full_load_loss_75  full_load_loss_120  \\\n",
       "0   19002.544911      150154.155650       187698.233981   \n",
       "3   11825.516231       89149.546166       108715.888044   \n",
       "8    8000.000000      138000.000000       146000.000000   \n",
       "9    8000.000000      138000.000000       146000.000000   \n",
       "10   5000.000000       53043.000000        61000.000000   \n",
       "\n",
       "    rated_volt_primary_side  \n",
       "0                   33000.0  \n",
       "3                   20000.0  \n",
       "8                   21000.0  \n",
       "9                   24000.0  \n",
       "10                  11000.0  "
      ]
     },
     "execution_count": 3,
     "metadata": {},
     "output_type": "execute_result"
    }
   ],
   "source": [
    "df = pd.read_csv('./output/v2.csv', index_col=0)\n",
    "df.head()"
   ]
  },
  {
   "cell_type": "code",
   "execution_count": 4,
   "metadata": {},
   "outputs": [],
   "source": [
    "df = pd.get_dummies(\n",
    "    df, columns=['dry_or_oil', 'primary_winding', 'secondary_winding']\n",
    ").copy()"
   ]
  },
  {
   "cell_type": "code",
   "execution_count": 6,
   "metadata": {},
   "outputs": [
    {
     "data": {
      "text/html": [
       "<div>\n",
       "<style scoped>\n",
       "    .dataframe tbody tr th:only-of-type {\n",
       "        vertical-align: middle;\n",
       "    }\n",
       "\n",
       "    .dataframe tbody tr th {\n",
       "        vertical-align: top;\n",
       "    }\n",
       "\n",
       "    .dataframe thead th {\n",
       "        text-align: right;\n",
       "    }\n",
       "</style>\n",
       "<table border=\"1\" class=\"dataframe\">\n",
       "  <thead>\n",
       "    <tr style=\"text-align: right;\">\n",
       "      <th></th>\n",
       "      <th>primary_winding_Copper</th>\n",
       "      <th>secondary_winding_Copper</th>\n",
       "    </tr>\n",
       "  </thead>\n",
       "  <tbody>\n",
       "    <tr>\n",
       "      <th>primary_winding_Copper</th>\n",
       "      <td>1.000000</td>\n",
       "      <td>0.784597</td>\n",
       "    </tr>\n",
       "    <tr>\n",
       "      <th>secondary_winding_Copper</th>\n",
       "      <td>0.784597</td>\n",
       "      <td>1.000000</td>\n",
       "    </tr>\n",
       "  </tbody>\n",
       "</table>\n",
       "</div>"
      ],
      "text/plain": [
       "                          primary_winding_Copper  secondary_winding_Copper\n",
       "primary_winding_Copper                  1.000000                  0.784597\n",
       "secondary_winding_Copper                0.784597                  1.000000"
      ]
     },
     "execution_count": 6,
     "metadata": {},
     "output_type": "execute_result"
    }
   ],
   "source": [
    "df[['primary_winding_Copper', 'secondary_winding_Copper']].corr()"
   ]
  },
  {
   "cell_type": "code",
   "execution_count": 82,
   "metadata": {},
   "outputs": [
    {
     "name": "stdout",
     "output_type": "stream",
     "text": [
      "                              OLS Regression Results                              \n",
      "==================================================================================\n",
      "Dep. Variable:     transformer_unit_price   R-squared:                       0.501\n",
      "Model:                                OLS   Adj. R-squared:                  0.481\n",
      "Method:                     Least Squares   F-statistic:                     24.82\n",
      "Date:                    Sat, 19 Oct 2024   Prob (F-statistic):           3.03e-14\n",
      "Time:                            09:01:05   Log-Likelihood:                -1373.6\n",
      "No. Observations:                     104   AIC:                             2757.\n",
      "Df Residuals:                          99   BIC:                             2770.\n",
      "Df Model:                               4                                         \n",
      "Covariance Type:                nonrobust                                         \n",
      "============================================================================================\n",
      "                               coef    std err          t      P>|t|      [0.025      0.975]\n",
      "--------------------------------------------------------------------------------------------\n",
      "const                     1.624e+04   1.75e+04      0.926      0.356   -1.85e+04     5.1e+04\n",
      "rated_power_kVA             16.7984      2.931      5.732      0.000      10.983      22.614\n",
      "rated_volt_primary_side      3.0246      1.671      1.810      0.073      -0.292       6.341\n",
      "dry_or_oil_Dry           -5.921e+04   2.33e+04     -2.542      0.013   -1.05e+05    -1.3e+04\n",
      "dry_or_oil_Oil            7.545e+04   2.71e+04      2.782      0.006    2.16e+04    1.29e+05\n",
      "primary_winding_Aluminum  8940.2962   2.29e+04      0.390      0.698   -3.66e+04    5.45e+04\n",
      "primary_winding_Copper    7301.4126   2.42e+04      0.301      0.764   -4.08e+04    5.54e+04\n",
      "==============================================================================\n",
      "Omnibus:                       48.575   Durbin-Watson:                   2.097\n",
      "Prob(Omnibus):                  0.000   Jarque-Bera (JB):              174.480\n",
      "Skew:                           1.573   Prob(JB):                     1.29e-38\n",
      "Kurtosis:                       8.510   Cond. No.                     2.60e+20\n",
      "==============================================================================\n",
      "\n",
      "Notes:\n",
      "[1] Standard Errors assume that the covariance matrix of the errors is correctly specified.\n",
      "[2] The smallest eigenvalue is 6.74e-31. This might indicate that there are\n",
      "strong multicollinearity problems or that the design matrix is singular.\n"
     ]
    }
   ],
   "source": [
    "# df['primary_winding_Copper'] = df['primary_winding_Copper'].astype(int)\n",
    "# df['primary_material_price'] = np.log(df['primary_winding_Copper'] * df['copper_price_per_kg'] + (1 - df['primary_winding_Copper']) * df['alu_price_per_kg'])\n",
    "\n",
    "chosen_columns = [\n",
    "    # 'quantity',\n",
    "    'rated_power_kVA', \n",
    "    # 'no_load_loss', \n",
    "    #'log_no_load_loss',\n",
    "    # 'full_load_loss_75',\n",
    "    # 'full_load_loss_120',\n",
    "    'rated_volt_primary_side',\n",
    "    'dry_or_oil_Dry',\n",
    "    'dry_or_oil_Oil',\n",
    "    'primary_winding_Aluminum',\n",
    "    'primary_winding_Copper',\n",
    "    # 'secondary_winding_Aluminum',\n",
    "    # 'secondary_winding_Copper',\n",
    "    # 'primary_material_price'\n",
    "]\n",
    "\n",
    "y = df['transformer_unit_price']\n",
    "# y = df['transformer_unit_price'] / df['transformer_unit_price'].mean()\n",
    "X = df[chosen_columns].astype(float)\n",
    "X = sm.add_constant(X)\n",
    "\n",
    "model = sm.OLS(y, X)\n",
    "results = model.fit()\n",
    "print(results.summary())"
   ]
  },
  {
   "cell_type": "code",
   "execution_count": 9,
   "metadata": {},
   "outputs": [],
   "source": [
    "df['year'] = df['date'].apply(lambda x: datetime.datetime.fromisoformat(x).year)\n",
    "df['month'] = df['date'].apply(lambda x: datetime.datetime.fromisoformat(x).month)"
   ]
  },
  {
   "cell_type": "code",
   "execution_count": 10,
   "metadata": {},
   "outputs": [
    {
     "data": {
      "text/plain": [
       "[<matplotlib.lines.Line2D at 0x7f8f8d4066e0>]"
      ]
     },
     "execution_count": 10,
     "metadata": {},
     "output_type": "execute_result"
    },
    {
     "data": {
      "image/png": "[encoded data removed]",
      "text/plain": [
       "<Figure size 640x480 with 1 Axes>"
      ]
     },
     "metadata": {},
     "output_type": "display_data"
    }
   ],
   "source": [
    "plt.plot(pd.DataFrame(df.groupby(['year', 'month'])['transformer_unit_price'].mean()).reset_index(drop=True))"
   ]
  }
 ],
 "metadata": {
  "kernelspec": {
   "display_name": "venv",
   "language": "python",
   "name": "python3"
  },
  "language_info": {
   "codemirror_mode": {
    "name": "ipython",
    "version": 3
   },
   "file_extension": ".py",
   "mimetype": "text/x-python",
   "name": "python",
   "nbconvert_exporter": "python",
   "pygments_lexer": "ipython3",
   "version": "3.10.12"
  }
 },
 "nbformat": 4,
 "nbformat_minor": 2
}
