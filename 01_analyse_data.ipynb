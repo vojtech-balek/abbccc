{
 "cells": [
  {
   "cell_type": "code",
   "execution_count": 163,
   "metadata": {},
   "outputs": [],
   "source": [
    "import datetime\n",
    "import re\n",
    "\n",
    "import pandas as pd\n",
    "import numpy as np\n",
    "\n",
    "import statsmodels.api as sm\n",
    "import matplotlib.pyplot as plt"
   ]
  },
  {
   "cell_type": "code",
   "execution_count": 164,
   "metadata": {},
   "outputs": [
    {
     "data": {
      "text/html": [
       "<div>\n",
       "<style scoped>\n",
       "    .dataframe tbody tr th:only-of-type {\n",
       "        vertical-align: middle;\n",
       "    }\n",
       "\n",
       "    .dataframe tbody tr th {\n",
       "        vertical-align: top;\n",
       "    }\n",
       "\n",
       "    .dataframe thead th {\n",
       "        text-align: right;\n",
       "    }\n",
       "</style>\n",
       "<table border=\"1\" class=\"dataframe\">\n",
       "  <thead>\n",
       "    <tr style=\"text-align: right;\">\n",
       "      <th></th>\n",
       "      <th>date</th>\n",
       "      <th>quantity</th>\n",
       "      <th>suppliers_currency</th>\n",
       "      <th>transformer_unit_price</th>\n",
       "      <th>dry_or_oil</th>\n",
       "      <th>rated_power_kVA</th>\n",
       "      <th>primary_winding</th>\n",
       "      <th>secondary_winding</th>\n",
       "      <th>no_load_loss</th>\n",
       "      <th>full_load_loss_75</th>\n",
       "      <th>full_load_loss_120</th>\n",
       "      <th>rated_volt_primary_side</th>\n",
       "    </tr>\n",
       "  </thead>\n",
       "  <tbody>\n",
       "    <tr>\n",
       "      <th>0</th>\n",
       "      <td>28-April-21</td>\n",
       "      <td>6.0</td>\n",
       "      <td>EUR</td>\n",
       "      <td>708000.0</td>\n",
       "      <td>Oil</td>\n",
       "      <td>19080.0</td>\n",
       "      <td>Copper</td>\n",
       "      <td>NaN</td>\n",
       "      <td>NaN</td>\n",
       "      <td>NaN</td>\n",
       "      <td>NaN</td>\n",
       "      <td>33.0</td>\n",
       "    </tr>\n",
       "    <tr>\n",
       "      <th>1</th>\n",
       "      <td>22.04.2021</td>\n",
       "      <td>1.0</td>\n",
       "      <td>NaN</td>\n",
       "      <td>NaN</td>\n",
       "      <td>Oil</td>\n",
       "      <td>19080.0</td>\n",
       "      <td>Copper</td>\n",
       "      <td>NaN</td>\n",
       "      <td>17000.0</td>\n",
       "      <td>90000.0</td>\n",
       "      <td>NaN</td>\n",
       "      <td>33750.0</td>\n",
       "    </tr>\n",
       "    <tr>\n",
       "      <th>2</th>\n",
       "      <td>22.04.2021</td>\n",
       "      <td>NaN</td>\n",
       "      <td>NaN</td>\n",
       "      <td>NaN</td>\n",
       "      <td>Oil</td>\n",
       "      <td>19080.0</td>\n",
       "      <td>Copper</td>\n",
       "      <td>Copper</td>\n",
       "      <td>17000.0</td>\n",
       "      <td>90000.0</td>\n",
       "      <td>NaN</td>\n",
       "      <td>33750.0</td>\n",
       "    </tr>\n",
       "    <tr>\n",
       "      <th>3</th>\n",
       "      <td>14/03/2023</td>\n",
       "      <td>4.0</td>\n",
       "      <td>€</td>\n",
       "      <td>235000.0</td>\n",
       "      <td>Oil</td>\n",
       "      <td>11000.0</td>\n",
       "      <td>Copper</td>\n",
       "      <td>Copper</td>\n",
       "      <td>NaN</td>\n",
       "      <td>NaN</td>\n",
       "      <td>NaN</td>\n",
       "      <td>NaN</td>\n",
       "    </tr>\n",
       "    <tr>\n",
       "      <th>4</th>\n",
       "      <td>14/03/2023</td>\n",
       "      <td>NaN</td>\n",
       "      <td>NaN</td>\n",
       "      <td>NaN</td>\n",
       "      <td>Oil</td>\n",
       "      <td>11000.0</td>\n",
       "      <td>Copper</td>\n",
       "      <td>NaN</td>\n",
       "      <td>7800.0</td>\n",
       "      <td>88000.0</td>\n",
       "      <td>NaN</td>\n",
       "      <td>22.0</td>\n",
       "    </tr>\n",
       "  </tbody>\n",
       "</table>\n",
       "</div>"
      ],
      "text/plain": [
       "          date  quantity suppliers_currency  transformer_unit_price  \\\n",
       "0  28-April-21       6.0                EUR                708000.0   \n",
       "1   22.04.2021       1.0                NaN                     NaN   \n",
       "2   22.04.2021       NaN                NaN                     NaN   \n",
       "3   14/03/2023       4.0                  €                235000.0   \n",
       "4   14/03/2023       NaN                NaN                     NaN   \n",
       "\n",
       "  dry_or_oil  rated_power_kVA primary_winding secondary_winding  no_load_loss  \\\n",
       "0        Oil          19080.0          Copper               NaN           NaN   \n",
       "1        Oil          19080.0          Copper               NaN       17000.0   \n",
       "2        Oil          19080.0          Copper            Copper       17000.0   \n",
       "3        Oil          11000.0          Copper            Copper           NaN   \n",
       "4        Oil          11000.0          Copper               NaN        7800.0   \n",
       "\n",
       "   full_load_loss_75  full_load_loss_120  rated_volt_primary_side  \n",
       "0                NaN                 NaN                     33.0  \n",
       "1            90000.0                 NaN                  33750.0  \n",
       "2            90000.0                 NaN                  33750.0  \n",
       "3                NaN                 NaN                      NaN  \n",
       "4            88000.0                 NaN                     22.0  "
      ]
     },
     "execution_count": 164,
     "metadata": {},
     "output_type": "execute_result"
    }
   ],
   "source": [
    "df = pd.read_csv('transformer_data2.csv')\n",
    "df.head()"
   ]
  },
  {
   "cell_type": "code",
   "execution_count": 165,
   "metadata": {},
   "outputs": [],
   "source": [
    "original_dates = list(df['date'].unique())\n",
    "gpt_parsed_dates = [\n",
    "    '2021-04-28',\n",
    "    '2021-04-22',\n",
    "    '2023-03-14',\n",
    "    '2023-03-14',\n",
    "    '2021-09-30',\n",
    "    '2020-12-02',\n",
    "    '2020-12-09',\n",
    "    '2020-06-03',\n",
    "    '2021-08-12',\n",
    "    '2022-03-17',\n",
    "    '2021-06-08',\n",
    "    '2021-12-14',\n",
    "    '2022-09-09',\n",
    "    '2023-02-15',\n",
    "    '2022-09-13',\n",
    "    '2022-05-13',\n",
    "    '2022-02-16',\n",
    "    '2022-03-11',\n",
    "    '2022-08-05',\n",
    "    '2022-08-18',\n",
    "    '2022-07-19',\n",
    "    '2020-10-06',\n",
    "    '2021-02-11',\n",
    "    '2023-03-27',\n",
    "    '2023-03-07',\n",
    "    '2021-07-19',\n",
    "    '2021-07-26',\n",
    "    '2022-08-02',\n",
    "    '2021-09-08',\n",
    "    '2021-06-07',\n",
    "    None,\n",
    "    '2022-08-04',\n",
    "    '2023-03-17',\n",
    "    '2021-08-13',\n",
    "    '2022-11-09',\n",
    "    '2020-12-08',\n",
    "    '2020-10-05',\n",
    "    '2022-02-07',\n",
    "    '2020-08-31',\n",
    "    '2020-06-10',\n",
    "    '2023-02-08',\n",
    "    '2023-02-10',\n",
    "    '2021-09-09',\n",
    "    '2021-11-03',\n",
    "    '2021-07-29',\n",
    "    '2022-08-22',\n",
    "    '2021-09-02',\n",
    "    '2021-08-26',\n",
    "    '2022-08-15',\n",
    "    '2022-03-09',\n",
    "    '2022-02-01',\n",
    "    '2022-04-06',\n",
    "    '2021-12-15',\n",
    "    '2022-05-18',\n",
    "    '2022-09-12',\n",
    "    '2021-10-06',\n",
    "    '2022-08-10',\n",
    "    '2021-06-17',\n",
    "    '2022-03-18',\n",
    "    '2021-02-04',\n",
    "    '2021-06-10',\n",
    "    '2022-09-09',\n",
    "    '2022-12-06',\n",
    "    '2020-12-01',\n",
    "    '2020-07-05',\n",
    "    '2020-11-28',\n",
    "    '2021-06-01',\n",
    "    '2021-12-14',\n",
    "    '2021-12-14',\n",
    "    '2021-09-27',\n",
    "    '2021-05-04',\n",
    "    '2021-09-10',\n",
    "    '2021-08-31',\n",
    "    '2022-05-24',\n",
    "    '2020-09-11'\n",
    "]\n",
    "matching_dates = dict(zip(original_dates, gpt_parsed_dates))\n",
    "df['date'] = df['date'].apply(lambda x: matching_dates[x])"
   ]
  },
  {
   "cell_type": "code",
   "execution_count": 166,
   "metadata": {},
   "outputs": [],
   "source": [
    "df['suppliers_currency'].unique()\n",
    "df['suppliers_currency'] = df['suppliers_currency'].apply(lambda x: 'EUR' if not pd.isna(x) else None)"
   ]
  },
  {
   "cell_type": "code",
   "execution_count": 167,
   "metadata": {},
   "outputs": [],
   "source": [
    "df['transformer_unit_price'] = df['transformer_unit_price'].apply(lambda x: x if not pd.isna(x) and (x>1000 and x<1000000) else None)"
   ]
  },
  {
   "cell_type": "code",
   "execution_count": 168,
   "metadata": {},
   "outputs": [],
   "source": [
    "df['dry_or_oil'].unique()\n",
    "df['dry_or_oil'] = df['dry_or_oil'].apply(lambda x: {'Oil': 'Oil', 'Dry': 'Dry', 'prepreg': 'Dry', 'vergossen': 'Oil', 'F': None, 'dry': 'Dry'}[x] if not pd.isna(x) else None)"
   ]
  },
  {
   "cell_type": "code",
   "execution_count": 169,
   "metadata": {},
   "outputs": [],
   "source": [
    "df['rated_power_kVA'] = df['rated_power_kVA'].apply(lambda x: x if not pd.isna(x) and x>100 else None)"
   ]
  },
  {
   "cell_type": "code",
   "execution_count": 170,
   "metadata": {},
   "outputs": [],
   "source": [
    "df['primary_winding'] = df['primary_winding'].apply(lambda x: {'Copper': 'Copper', 'Aluminium': 'Aluminum', 'aluminum': \"Aluminum\", 'Aluminum': 'Aluminum'}.get(x, None))"
   ]
  },
  {
   "cell_type": "code",
   "execution_count": 171,
   "metadata": {},
   "outputs": [],
   "source": [
    "df['secondary_winding'] = df['secondary_winding'].apply(lambda x: {'Copper': 'Copper', 'Aluminium': 'Aluminum', 'aluminum': 'Aluminum', 'Aluminum': 'Aluminum'}.get(x, None))"
   ]
  },
  {
   "cell_type": "code",
   "execution_count": 172,
   "metadata": {},
   "outputs": [],
   "source": [
    "df['no_load_loss'] = df['no_load_loss'].apply(lambda x: x if not pd.isna(x) and x>100 else x*1000 if x==100 else None)"
   ]
  },
  {
   "cell_type": "code",
   "execution_count": 173,
   "metadata": {},
   "outputs": [],
   "source": [
    "df['full_load_loss_75'] = df['full_load_loss_75'].apply(lambda x: x if not pd.isna(x) and x>21 else x*1000 if x==21 else None)"
   ]
  },
  {
   "cell_type": "code",
   "execution_count": 174,
   "metadata": {},
   "outputs": [],
   "source": [
    "df['full_load_loss_120'] = df['full_load_loss_120'].apply(lambda x: x if not pd.isna(x) and x>120 else x*1000 if x==120 else None)"
   ]
  },
  {
   "cell_type": "code",
   "execution_count": 175,
   "metadata": {},
   "outputs": [],
   "source": [
    "df['rated_volt_primary_side'] = df['rated_volt_primary_side'].apply(lambda x: x if not pd.isna(x) and x>100 else x*1000 if (x<100 and x>1) else None)"
   ]
  },
  {
   "cell_type": "code",
   "execution_count": 176,
   "metadata": {},
   "outputs": [],
   "source": [
    "df.to_csv('./output/v1.csv')"
   ]
  }
 ],
 "metadata": {
  "kernelspec": {
   "display_name": "venv",
   "language": "python",
   "name": "python3"
  },
  "language_info": {
   "codemirror_mode": {
    "name": "ipython",
    "version": 3
   },
   "file_extension": ".py",
   "mimetype": "text/x-python",
   "name": "python",
   "nbconvert_exporter": "python",
   "pygments_lexer": "ipython3",
   "version": "3.10.12"
  }
 },
 "nbformat": 4,
 "nbformat_minor": 2
}
